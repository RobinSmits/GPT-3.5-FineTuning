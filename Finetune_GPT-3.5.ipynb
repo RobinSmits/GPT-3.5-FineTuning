{
 "cells": [
  {
   "cell_type": "markdown",
   "metadata": {},
   "source": [
    "## 1.0 Introduction\n",
    "\n",
    "In this notebook we will perform all steps required to finetune a GPT-3.5 Turbo model on our own custom datasets.\n",
    "\n",
    "The training and validation csv files are the same ones that were also used in the notebook 'Transformer_Model_Training_And_Validation.ipynb' where we trained a multi-lingual DistilBert and Bert model.\n",
    "\n",
    "After the GPT-3.5 Turbo model is fine-tuned and validated we can compare the performance on the validation set across the various models."
   ]
  },
  {
   "cell_type": "code",
   "execution_count": 1,
   "metadata": {},
   "outputs": [],
   "source": [
    "# Import Modules\n",
    "import json\n",
    "import os\n",
    "import numpy as np\n",
    "import pandas as pd\n",
    "\n",
    "# OpenAI\n",
    "import openai\n",
    "import tiktoken # for token counting\n",
    "from collections import defaultdict"
   ]
  },
  {
   "cell_type": "markdown",
   "metadata": {},
   "source": [
    "## 2.0 Load Datasets\n",
    "\n",
    "We will reload the training and validation CSV files that were generated earlier with the notebook 'Prepare_Train_and_Validation_Datasets.ipynb'."
   ]
  },
  {
   "cell_type": "code",
   "execution_count": 2,
   "metadata": {},
   "outputs": [
    {
     "name": "stdout",
     "output_type": "stream",
     "text": [
      "(3069, 11)\n",
      "(1559, 11)\n"
     ]
    }
   ],
   "source": [
    "# Load Datasets\n",
    "train_df = pd.read_csv('./data/train_df.csv')\n",
    "val_df = pd.read_csv('./data/val_df.csv')\n",
    "\n",
    "# Summary\n",
    "print(train_df.shape)\n",
    "print(val_df.shape)"
   ]
  },
  {
   "cell_type": "markdown",
   "metadata": {},
   "source": [
    "Let's review a small subset of the training data..."
   ]
  },
  {
   "cell_type": "code",
   "execution_count": 3,
   "metadata": {},
   "outputs": [
    {
     "data": {
      "text/html": [
       "<div>\n",
       "<style scoped>\n",
       "    .dataframe tbody tr th:only-of-type {\n",
       "        vertical-align: middle;\n",
       "    }\n",
       "\n",
       "    .dataframe tbody tr th {\n",
       "        vertical-align: top;\n",
       "    }\n",
       "\n",
       "    .dataframe thead th {\n",
       "        text-align: right;\n",
       "    }\n",
       "</style>\n",
       "<table border=\"1\" class=\"dataframe\">\n",
       "  <thead>\n",
       "    <tr style=\"text-align: right;\">\n",
       "      <th></th>\n",
       "      <th>id</th>\n",
       "      <th>title</th>\n",
       "      <th>text</th>\n",
       "      <th>mainSection</th>\n",
       "      <th>published_at</th>\n",
       "      <th>publisher</th>\n",
       "      <th>partisan</th>\n",
       "      <th>url</th>\n",
       "      <th>text_wordcount</th>\n",
       "      <th>max_words_text</th>\n",
       "      <th>labels</th>\n",
       "    </tr>\n",
       "  </thead>\n",
       "  <tbody>\n",
       "    <tr>\n",
       "      <th>0</th>\n",
       "      <td>10706318</td>\n",
       "      <td>Ogen als schoteltjes bij de Tachtigjarige Oorlog</td>\n",
       "      <td>Ogen als schoteltjes bij de Tachtigjarige Oorl...</td>\n",
       "      <td>/home</td>\n",
       "      <td>2018-10-07</td>\n",
       "      <td>trouw</td>\n",
       "      <td>True</td>\n",
       "      <td>www.trouw.nl/home/ogen-als-schoteltjes-bij-de-...</td>\n",
       "      <td>539</td>\n",
       "      <td>Ogen als schoteltjes bij de Tachtigjarige Oorl...</td>\n",
       "      <td>1</td>\n",
       "    </tr>\n",
       "    <tr>\n",
       "      <th>1</th>\n",
       "      <td>12633805</td>\n",
       "      <td>Geen beeld, maar een monument voor Mandela in ...</td>\n",
       "      <td>Geen beeld, maar een monument voor Mandela in ...</td>\n",
       "      <td>/amsterdam</td>\n",
       "      <td>2019-05-10</td>\n",
       "      <td>parool</td>\n",
       "      <td>True</td>\n",
       "      <td>www.parool.nl/amsterdam/geen-beeld-maar-een-mo...</td>\n",
       "      <td>662</td>\n",
       "      <td>Geen beeld, maar een monument voor Mandela in ...</td>\n",
       "      <td>1</td>\n",
       "    </tr>\n",
       "    <tr>\n",
       "      <th>2</th>\n",
       "      <td>7140125</td>\n",
       "      <td>Hoe ga je een onveilige arbeidscultuur zoals i...</td>\n",
       "      <td>Hoe ga je een onveilige arbeidscultuur zoals i...</td>\n",
       "      <td>/</td>\n",
       "      <td>2017-04-18</td>\n",
       "      <td>trouw</td>\n",
       "      <td>True</td>\n",
       "      <td>NaN</td>\n",
       "      <td>494</td>\n",
       "      <td>Hoe ga je een onveilige arbeidscultuur zoals i...</td>\n",
       "      <td>1</td>\n",
       "    </tr>\n",
       "    <tr>\n",
       "      <th>3</th>\n",
       "      <td>4490774</td>\n",
       "      <td>Wetenschappers ontdekken lichtgevende discokikker</td>\n",
       "      <td>Wetenschappers ontdekken lichtgevende discokik...</td>\n",
       "      <td>/</td>\n",
       "      <td>2017-03-14</td>\n",
       "      <td>trouw</td>\n",
       "      <td>True</td>\n",
       "      <td>NaN</td>\n",
       "      <td>291</td>\n",
       "      <td>Wetenschappers ontdekken lichtgevende discokik...</td>\n",
       "      <td>1</td>\n",
       "    </tr>\n",
       "    <tr>\n",
       "      <th>4</th>\n",
       "      <td>10592180</td>\n",
       "      <td>Meer fouten kabinet bij steun aan strijdgroepe...</td>\n",
       "      <td>Meer fouten kabinet bij steun aan strijdgroepe...</td>\n",
       "      <td>/home</td>\n",
       "      <td>2018-09-11</td>\n",
       "      <td>trouw</td>\n",
       "      <td>True</td>\n",
       "      <td>www.trouw.nl/home/meer-fouten-kabinet-bij-steu...</td>\n",
       "      <td>471</td>\n",
       "      <td>Meer fouten kabinet bij steun aan strijdgroepe...</td>\n",
       "      <td>1</td>\n",
       "    </tr>\n",
       "  </tbody>\n",
       "</table>\n",
       "</div>"
      ],
      "text/plain": [
       "         id                                              title  \\\n",
       "0  10706318   Ogen als schoteltjes bij de Tachtigjarige Oorlog   \n",
       "1  12633805  Geen beeld, maar een monument voor Mandela in ...   \n",
       "2   7140125  Hoe ga je een onveilige arbeidscultuur zoals i...   \n",
       "3   4490774  Wetenschappers ontdekken lichtgevende discokikker   \n",
       "4  10592180  Meer fouten kabinet bij steun aan strijdgroepe...   \n",
       "\n",
       "                                                text mainSection published_at  \\\n",
       "0  Ogen als schoteltjes bij de Tachtigjarige Oorl...       /home   2018-10-07   \n",
       "1  Geen beeld, maar een monument voor Mandela in ...  /amsterdam   2019-05-10   \n",
       "2  Hoe ga je een onveilige arbeidscultuur zoals i...           /   2017-04-18   \n",
       "3  Wetenschappers ontdekken lichtgevende discokik...           /   2017-03-14   \n",
       "4  Meer fouten kabinet bij steun aan strijdgroepe...       /home   2018-09-11   \n",
       "\n",
       "  publisher  partisan                                                url  \\\n",
       "0     trouw      True  www.trouw.nl/home/ogen-als-schoteltjes-bij-de-...   \n",
       "1    parool      True  www.parool.nl/amsterdam/geen-beeld-maar-een-mo...   \n",
       "2     trouw      True                                                NaN   \n",
       "3     trouw      True                                                NaN   \n",
       "4     trouw      True  www.trouw.nl/home/meer-fouten-kabinet-bij-steu...   \n",
       "\n",
       "   text_wordcount                                     max_words_text  labels  \n",
       "0             539  Ogen als schoteltjes bij de Tachtigjarige Oorl...       1  \n",
       "1             662  Geen beeld, maar een monument voor Mandela in ...       1  \n",
       "2             494  Hoe ga je een onveilige arbeidscultuur zoals i...       1  \n",
       "3             291  Wetenschappers ontdekken lichtgevende discokik...       1  \n",
       "4             471  Meer fouten kabinet bij steun aan strijdgroepe...       1  "
      ]
     },
     "execution_count": 3,
     "metadata": {},
     "output_type": "execute_result"
    }
   ],
   "source": [
    "# Summary\n",
    "train_df.head()"
   ]
  },
  {
   "cell_type": "markdown",
   "metadata": {},
   "source": [
    "...and also the validation data..."
   ]
  },
  {
   "cell_type": "code",
   "execution_count": 4,
   "metadata": {},
   "outputs": [
    {
     "data": {
      "text/html": [
       "<div>\n",
       "<style scoped>\n",
       "    .dataframe tbody tr th:only-of-type {\n",
       "        vertical-align: middle;\n",
       "    }\n",
       "\n",
       "    .dataframe tbody tr th {\n",
       "        vertical-align: top;\n",
       "    }\n",
       "\n",
       "    .dataframe thead th {\n",
       "        text-align: right;\n",
       "    }\n",
       "</style>\n",
       "<table border=\"1\" class=\"dataframe\">\n",
       "  <thead>\n",
       "    <tr style=\"text-align: right;\">\n",
       "      <th></th>\n",
       "      <th>id</th>\n",
       "      <th>title</th>\n",
       "      <th>text</th>\n",
       "      <th>mainSection</th>\n",
       "      <th>published_at</th>\n",
       "      <th>publisher</th>\n",
       "      <th>partisan</th>\n",
       "      <th>url</th>\n",
       "      <th>text_wordcount</th>\n",
       "      <th>max_words_text</th>\n",
       "      <th>labels</th>\n",
       "    </tr>\n",
       "  </thead>\n",
       "  <tbody>\n",
       "    <tr>\n",
       "      <th>0</th>\n",
       "      <td>9266995</td>\n",
       "      <td>Verdachte dodelijke steekpartijen Maastricht l...</td>\n",
       "      <td>Verdachte dodelijke steekpartijen Maastricht l...</td>\n",
       "      <td>/nieuws</td>\n",
       "      <td>2017-12-18</td>\n",
       "      <td>ad</td>\n",
       "      <td>False</td>\n",
       "      <td>www.ad.nl/binnenland/verdachte-dodelijke-steek...</td>\n",
       "      <td>188</td>\n",
       "      <td>Verdachte dodelijke steekpartijen Maastricht l...</td>\n",
       "      <td>0</td>\n",
       "    </tr>\n",
       "    <tr>\n",
       "      <th>1</th>\n",
       "      <td>4130077</td>\n",
       "      <td>Honderden arrestaties bij acties tegen mensen ...</td>\n",
       "      <td>Honderden arrestaties bij acties tegen mensen ...</td>\n",
       "      <td>/nieuws</td>\n",
       "      <td>2017-02-11</td>\n",
       "      <td>ad</td>\n",
       "      <td>False</td>\n",
       "      <td>www.ad.nl/buitenland/honderden-arrestaties-bij...</td>\n",
       "      <td>122</td>\n",
       "      <td>Honderden arrestaties bij acties tegen mensen ...</td>\n",
       "      <td>0</td>\n",
       "    </tr>\n",
       "    <tr>\n",
       "      <th>2</th>\n",
       "      <td>11147268</td>\n",
       "      <td>Waarom de 'oudejaarsbonus' voor de jongeren va...</td>\n",
       "      <td>Waarom de 'oudejaarsbonus' voor de jongeren va...</td>\n",
       "      <td>/home</td>\n",
       "      <td>2019-01-20</td>\n",
       "      <td>trouw</td>\n",
       "      <td>True</td>\n",
       "      <td>www.trouw.nl/home/waarom-de-oudejaarsbonus-voo...</td>\n",
       "      <td>262</td>\n",
       "      <td>Waarom de 'oudejaarsbonus' voor de jongeren va...</td>\n",
       "      <td>1</td>\n",
       "    </tr>\n",
       "    <tr>\n",
       "      <th>3</th>\n",
       "      <td>10749100</td>\n",
       "      <td>Klaar voor de verdediging</td>\n",
       "      <td>Klaar voor de verdedigingOver ruim een week be...</td>\n",
       "      <td>/nieuws</td>\n",
       "      <td>2018-10-16</td>\n",
       "      <td>ad</td>\n",
       "      <td>False</td>\n",
       "      <td>www.ad.nl/binnenland/klaar-voor-de-verdediging...</td>\n",
       "      <td>411</td>\n",
       "      <td>Klaar voor de verdedigingOver ruim een week be...</td>\n",
       "      <td>0</td>\n",
       "    </tr>\n",
       "    <tr>\n",
       "      <th>4</th>\n",
       "      <td>10700707</td>\n",
       "      <td>Windvlaag grijpt springmatras en doodt 2-jarig...</td>\n",
       "      <td>Windvlaag grijpt springmatras en doodt 2-jarig...</td>\n",
       "      <td>/nieuws</td>\n",
       "      <td>2018-10-05</td>\n",
       "      <td>ad</td>\n",
       "      <td>False</td>\n",
       "      <td>www.ad.nl/buitenland/windvlaag-grijpt-springma...</td>\n",
       "      <td>286</td>\n",
       "      <td>Windvlaag grijpt springmatras en doodt 2-jarig...</td>\n",
       "      <td>0</td>\n",
       "    </tr>\n",
       "  </tbody>\n",
       "</table>\n",
       "</div>"
      ],
      "text/plain": [
       "         id                                              title  \\\n",
       "0   9266995  Verdachte dodelijke steekpartijen Maastricht l...   \n",
       "1   4130077  Honderden arrestaties bij acties tegen mensen ...   \n",
       "2  11147268  Waarom de 'oudejaarsbonus' voor de jongeren va...   \n",
       "3  10749100                          Klaar voor de verdediging   \n",
       "4  10700707  Windvlaag grijpt springmatras en doodt 2-jarig...   \n",
       "\n",
       "                                                text mainSection published_at  \\\n",
       "0  Verdachte dodelijke steekpartijen Maastricht l...     /nieuws   2017-12-18   \n",
       "1  Honderden arrestaties bij acties tegen mensen ...     /nieuws   2017-02-11   \n",
       "2  Waarom de 'oudejaarsbonus' voor de jongeren va...       /home   2019-01-20   \n",
       "3  Klaar voor de verdedigingOver ruim een week be...     /nieuws   2018-10-16   \n",
       "4  Windvlaag grijpt springmatras en doodt 2-jarig...     /nieuws   2018-10-05   \n",
       "\n",
       "  publisher  partisan                                                url  \\\n",
       "0        ad     False  www.ad.nl/binnenland/verdachte-dodelijke-steek...   \n",
       "1        ad     False  www.ad.nl/buitenland/honderden-arrestaties-bij...   \n",
       "2     trouw      True  www.trouw.nl/home/waarom-de-oudejaarsbonus-voo...   \n",
       "3        ad     False  www.ad.nl/binnenland/klaar-voor-de-verdediging...   \n",
       "4        ad     False  www.ad.nl/buitenland/windvlaag-grijpt-springma...   \n",
       "\n",
       "   text_wordcount                                     max_words_text  labels  \n",
       "0             188  Verdachte dodelijke steekpartijen Maastricht l...       0  \n",
       "1             122  Honderden arrestaties bij acties tegen mensen ...       0  \n",
       "2             262  Waarom de 'oudejaarsbonus' voor de jongeren va...       1  \n",
       "3             411  Klaar voor de verdedigingOver ruim een week be...       0  \n",
       "4             286  Windvlaag grijpt springmatras en doodt 2-jarig...       0  "
      ]
     },
     "execution_count": 4,
     "metadata": {},
     "output_type": "execute_result"
    }
   ],
   "source": [
    "# Summary\n",
    "val_df.head()"
   ]
  },
  {
   "cell_type": "markdown",
   "metadata": {},
   "source": [
    "## 3.0 Finetuning OpenAI GPT-3.5 Model\n",
    "\n",
    "In this section we will proces and upload the files for training and validation to OpenAI.\n",
    "\n",
    "After the files are uploaded we can create a FineTuning Job on OpenAI."
   ]
  },
  {
   "cell_type": "markdown",
   "metadata": {},
   "source": [
    "### 3.1 Settings"
   ]
  },
  {
   "cell_type": "code",
   "execution_count": 5,
   "metadata": {},
   "outputs": [],
   "source": [
    "# Constants\n",
    "MAX_WORDS = 192\n",
    "\n",
    "# OpenAI API Key\n",
    "openai.api_key = os.environ[\"OPENAI_API_KEY\"]"
   ]
  },
  {
   "cell_type": "markdown",
   "metadata": {},
   "source": [
    "### 3.2 Create and Validate OpenAI Files\n",
    "\n",
    "Part of creating the required files is engineering a prompt that matches what we want the model to perform with the finetuning.\n",
    "\n",
    "In the earlier notebook we trained the 2 classical Transformer models to classify the input text as either partisan or neutral.\n",
    "\n",
    "With our prompt we want to achieve the same. As part of the prompt's system message we tell GPT-3.5 that it is a newspaper editor and that it needs to classify each newspaper article as being partisan or neutral.\n",
    "\n",
    "The news article is then added as part of the prompt."
   ]
  },
  {
   "cell_type": "code",
   "execution_count": 6,
   "metadata": {},
   "outputs": [],
   "source": [
    "def create_prompt(item_text, item_label = None, inference = False):\n",
    "    if inference:\n",
    "        # Base Prompt\n",
    "        prompt_text = [{\"role\": \"system\", \"content\": \"Je bent redacteur bij een krant. Je beoordeeld een krantenartikel of het politiek of neutraal is. Hieronder staat de tekst van het krantenartikel.\"}, {\"role\": \"user\", \"content\": \"\"}]\n",
    "\n",
    "        # Set Text and Label\n",
    "        prompt_text[1]['content'] = '### Tekst:\\n' + item_text\n",
    "    else:   \n",
    "        # Base Prompt\n",
    "        prompt_text = {\"messages\": [{\"role\": \"system\", \"content\": \"Je bent redacteur bij een krant. Je beoordeeld een krantenartikel of het politiek of neutraal is. Hieronder staat de tekst van het krantenartikel.\"}, {\"role\": \"user\", \"content\": \"\"}, {\"role\": \"assistant\", \"content\": \"\"}]}\n",
    "\n",
    "        # Set Text and Label\n",
    "        prompt_text['messages'][1]['content'] = '### Tekst:\\n' + item_text\n",
    "        prompt_text['messages'][2]['content'] = item_label\n",
    "    \n",
    "    return prompt_text"
   ]
  },
  {
   "cell_type": "markdown",
   "metadata": {},
   "source": [
    "The function 'create_openai_file' creates the JSON files for OpenAI based on the input Pandas DataFrame. For each row a prompt is generated and the 'label' for finetuning is set.\n",
    "\n",
    "As the dataset is in the Dutch language the labels are specified as either 'Politiek' (roughly equals partisan) or 'Neutraal' (neutral).\n",
    "\n",
    "Note that we use the 'max_words_text' column to make sure that each prompt uses the same text as was used when training the Multi-lingual DistilBert and Bert models."
   ]
  },
  {
   "cell_type": "code",
   "execution_count": 7,
   "metadata": {},
   "outputs": [],
   "source": [
    "def create_openai_file(df, file_name):\n",
    "    # Create Train JSON File\n",
    "    jsonl_file = []\n",
    "\n",
    "    # Loop through rows in Pandas DataFrame\n",
    "    for index, row in df.iterrows():\n",
    "        text = row['max_words_text']\n",
    "        partisan = row['partisan']\n",
    "\n",
    "        if partisan == True:\n",
    "            label = 'Politiek'\n",
    "        else:\n",
    "            label = 'Neutraal'\n",
    "\n",
    "        jsonl_file.append(create_prompt(text, label))\n",
    "\n",
    "    # Save to File\n",
    "    with open(file_name, 'w') as out_file:\n",
    "        for item in jsonl_file:        \n",
    "            out_file.write(json.dumps(item) + '\\n')\n",
    "\n",
    "    # Summary\n",
    "    print(f'\\n======== {file_name}')\n",
    "    print(f'Length Messages: {len(jsonl_file)}')\n",
    "    print(jsonl_file[:1])"
   ]
  },
  {
   "cell_type": "markdown",
   "metadata": {},
   "source": [
    "The code to validate the OpenAI files is based on and combined from the OpenAI Cookbook: https://cookbook.openai.com/examples/chat_finetuning_data_prep\n",
    "\n",
    "Only minor updates have been made for this specific example."
   ]
  },
  {
   "cell_type": "code",
   "execution_count": 8,
   "metadata": {},
   "outputs": [],
   "source": [
    "# Validate OpenAI file\n",
    "def validate_openai_file(data_path):\n",
    "    print('\\n======= OpenAI Validation')\n",
    "    \n",
    "    # Load the dataset\n",
    "    with open(data_path, 'r', encoding='utf-8') as f:\n",
    "        dataset = [json.loads(line) for line in f]\n",
    "\n",
    "    # Initial dataset stats\n",
    "    print(\"Num examples:\", len(dataset))\n",
    "    print(\"First example:\")\n",
    "    for message in dataset[0][\"messages\"]:\n",
    "        print(message)\n",
    "\n",
    "    # Format error checks\n",
    "    format_errors = defaultdict(int)\n",
    "\n",
    "    for ex in dataset:\n",
    "        if not isinstance(ex, dict):\n",
    "            format_errors[\"data_type\"] += 1\n",
    "            continue\n",
    "            \n",
    "        messages = ex.get(\"messages\", None)\n",
    "        if not messages:\n",
    "            format_errors[\"missing_messages_list\"] += 1\n",
    "            continue\n",
    "            \n",
    "        for message in messages:\n",
    "            if \"role\" not in message or \"content\" not in message:\n",
    "                format_errors[\"message_missing_key\"] += 1\n",
    "            \n",
    "            if any(k not in (\"role\", \"content\", \"name\", \"function_call\") for k in message):\n",
    "                format_errors[\"message_unrecognized_key\"] += 1\n",
    "            \n",
    "            if message.get(\"role\", None) not in (\"system\", \"user\", \"assistant\", \"function\"):\n",
    "                format_errors[\"unrecognized_role\"] += 1\n",
    "                \n",
    "            content = message.get(\"content\", None)\n",
    "            function_call = message.get(\"function_call\", None)\n",
    "            \n",
    "            if (not content and not function_call) or not isinstance(content, str):\n",
    "                format_errors[\"missing_content\"] += 1\n",
    "        \n",
    "        if not any(message.get(\"role\", None) == \"assistant\" for message in messages):\n",
    "            format_errors[\"example_missing_assistant_message\"] += 1\n",
    "\n",
    "    if format_errors:\n",
    "        print(\"Found errors:\")\n",
    "        for k, v in format_errors.items():\n",
    "            print(f\"{k}: {v}\")\n",
    "    else:\n",
    "        print(\"No errors found\")\n",
    "        \n",
    "    encoding = tiktoken.get_encoding(\"cl100k_base\")\n",
    "\n",
    "    # not exact!\n",
    "    # simplified from https://github.com/openai/openai-cookbook/blob/main/examples/How_to_count_tokens_with_tiktoken.ipynb\n",
    "    def num_tokens_from_messages(messages, tokens_per_message=3, tokens_per_name=1):\n",
    "        num_tokens = 0\n",
    "        for message in messages:\n",
    "            num_tokens += tokens_per_message\n",
    "            for key, value in message.items():\n",
    "                num_tokens += len(encoding.encode(value))\n",
    "                if key == \"name\":\n",
    "                    num_tokens += tokens_per_name\n",
    "        num_tokens += 3\n",
    "        return num_tokens\n",
    "\n",
    "    def num_assistant_tokens_from_messages(messages):\n",
    "        num_tokens = 0\n",
    "        for message in messages:\n",
    "            if message[\"role\"] == \"assistant\":\n",
    "                num_tokens += len(encoding.encode(message[\"content\"]))\n",
    "        return num_tokens\n",
    "\n",
    "    def print_distribution(values, name):\n",
    "        print(f\"\\n#### Distribution of {name}:\")\n",
    "        print(f\"min / max: {min(values)}, {max(values)}\")\n",
    "        print(f\"mean / median: {np.mean(values)}, {np.median(values)}\")\n",
    "        print(f\"p5 / p95: {np.quantile(values, 0.1)}, {np.quantile(values, 0.9)}\")\n",
    "        \n",
    "    # Warnings and tokens counts\n",
    "    n_missing_system = 0\n",
    "    n_missing_user = 0\n",
    "    n_messages = []\n",
    "    convo_lens = []\n",
    "    assistant_message_lens = []\n",
    "\n",
    "    for ex in dataset:\n",
    "        messages = ex[\"messages\"]\n",
    "        if not any(message[\"role\"] == \"system\" for message in messages):\n",
    "            n_missing_system += 1\n",
    "        if not any(message[\"role\"] == \"user\" for message in messages):\n",
    "            n_missing_user += 1\n",
    "        n_messages.append(len(messages))\n",
    "        convo_lens.append(num_tokens_from_messages(messages))\n",
    "        assistant_message_lens.append(num_assistant_tokens_from_messages(messages))\n",
    "        \n",
    "    print(\"Num examples missing system message:\", n_missing_system)\n",
    "    print(\"Num examples missing user message:\", n_missing_user)\n",
    "    print_distribution(n_messages, \"num_messages_per_example\")\n",
    "    print_distribution(convo_lens, \"num_total_tokens_per_example\")\n",
    "    print_distribution(assistant_message_lens, \"num_assistant_tokens_per_example\")\n",
    "    n_too_long = sum(l > 4096 for l in convo_lens)\n",
    "    print(f\"\\n{n_too_long} examples may be over the 4096 token limit, they will be truncated during fine-tuning\")\n",
    "\n",
    "    # Pricing and default n_epochs estimate\n",
    "    MAX_TOKENS_PER_EXAMPLE = 4096\n",
    "\n",
    "    TARGET_EPOCHS = 1\n",
    "    MIN_TARGET_EXAMPLES = 100\n",
    "    MAX_TARGET_EXAMPLES = 25000\n",
    "    MIN_DEFAULT_EPOCHS = 1\n",
    "    MAX_DEFAULT_EPOCHS = 2\n",
    "\n",
    "    n_epochs = TARGET_EPOCHS\n",
    "    n_train_examples = len(dataset)\n",
    "    if n_train_examples * TARGET_EPOCHS < MIN_TARGET_EXAMPLES:\n",
    "        n_epochs = min(MAX_DEFAULT_EPOCHS, MIN_TARGET_EXAMPLES // n_train_examples)\n",
    "    elif n_train_examples * TARGET_EPOCHS > MAX_TARGET_EXAMPLES:\n",
    "        n_epochs = max(MIN_DEFAULT_EPOCHS, MAX_TARGET_EXAMPLES // n_train_examples)\n",
    "\n",
    "    n_billing_tokens_in_dataset = sum(min(MAX_TOKENS_PER_EXAMPLE, length) for length in convo_lens)\n",
    "    print(f\"Dataset has ~{n_billing_tokens_in_dataset} tokens that will be charged for during training\")\n",
    "    print(f\"By default, you'll train for {n_epochs} epochs on this dataset\")\n",
    "    print(f\"By default, you'll be charged for ~{n_epochs * n_billing_tokens_in_dataset} tokens\")"
   ]
  },
  {
   "cell_type": "markdown",
   "metadata": {},
   "source": [
    "First the training file for OpenAI finetuning is created locally and validated with the code from the OpenAI Cookbook."
   ]
  },
  {
   "cell_type": "code",
   "execution_count": 9,
   "metadata": {},
   "outputs": [
    {
     "name": "stdout",
     "output_type": "stream",
     "text": [
      "\n",
      "======== ./data/train.jsonl\n",
      "Length Messages: 3069\n",
      "[{'messages': [{'role': 'system', 'content': 'Je bent redacteur bij een krant. Je beoordeeld een krantenartikel of het politiek of neutraal is. Hieronder staat de tekst van het krantenartikel.'}, {'role': 'user', 'content': \"### Tekst:\\nOgen als schoteltjes bij de Tachtigjarige Oorlog Het was mijn favoriete oorlog op de basisschool. Tachtig jaar vechten? Onvoorstelbaar. Dat we met Willem van Oranje wonnen van die in de waterlinies verzuipende Spanjaarden, en dat die wrede Alva het nakijken had, was helemaal mooi. Zielig dat Van Oranje dood moest. Maar ja, ons land was nu wel ontstaan.Zo ongeveer herinner ik me het. En nu zat ik zondagmiddag met mijn eigen kinderen te kijken naar de NTR-jeugdserie 'Welkom in de 80-jarige Oorlog', 450 jaar na de eerste gevechten in 1568. Ik was benieuwd welke geschiedversie zij te zien zouden krijgen.In de volwassenenversie '80 Jaar Oorlog' legt Hans Goedkoop een bom onder het beeld van goede protestanten tegen slechte katholieken uit Spanje. Het was eerder een burgeroorlog. De 'heldhaftige' geuzen waren piraten die plunderden en moordden. En de protestanten met hun beeldenstorm leken op de geloofsfanatici van IS en de Taliban, zeiden de historici.Zat ik dus kritisch te kijken hoe die visie zou doorsijpelen in de kindervariant, zag ik naast mij ogen als schoteltjes. Mijn dochter (8) en zoon (7) vergaapten zich eraan. Die kostuums! Die sfeer van opstand, intrige en macht. En\"}, {'role': 'assistant', 'content': 'Politiek'}]}]\n",
      "\n",
      "======= OpenAI Validation\n",
      "Num examples: 3069\n",
      "First example:\n",
      "{'role': 'system', 'content': 'Je bent redacteur bij een krant. Je beoordeeld een krantenartikel of het politiek of neutraal is. Hieronder staat de tekst van het krantenartikel.'}\n",
      "{'role': 'user', 'content': \"### Tekst:\\nOgen als schoteltjes bij de Tachtigjarige Oorlog Het was mijn favoriete oorlog op de basisschool. Tachtig jaar vechten? Onvoorstelbaar. Dat we met Willem van Oranje wonnen van die in de waterlinies verzuipende Spanjaarden, en dat die wrede Alva het nakijken had, was helemaal mooi. Zielig dat Van Oranje dood moest. Maar ja, ons land was nu wel ontstaan.Zo ongeveer herinner ik me het. En nu zat ik zondagmiddag met mijn eigen kinderen te kijken naar de NTR-jeugdserie 'Welkom in de 80-jarige Oorlog', 450 jaar na de eerste gevechten in 1568. Ik was benieuwd welke geschiedversie zij te zien zouden krijgen.In de volwassenenversie '80 Jaar Oorlog' legt Hans Goedkoop een bom onder het beeld van goede protestanten tegen slechte katholieken uit Spanje. Het was eerder een burgeroorlog. De 'heldhaftige' geuzen waren piraten die plunderden en moordden. En de protestanten met hun beeldenstorm leken op de geloofsfanatici van IS en de Taliban, zeiden de historici.Zat ik dus kritisch te kijken hoe die visie zou doorsijpelen in de kindervariant, zag ik naast mij ogen als schoteltjes. Mijn dochter (8) en zoon (7) vergaapten zich eraan. Die kostuums! Die sfeer van opstand, intrige en macht. En\"}\n",
      "{'role': 'assistant', 'content': 'Politiek'}\n",
      "No errors found\n",
      "Num examples missing system message: 0\n",
      "Num examples missing user message: 0\n",
      "\n",
      "#### Distribution of num_messages_per_example:\n",
      "min / max: 3, 3\n",
      "mean / median: 3.0, 3.0\n",
      "p5 / p95: 3.0, 3.0\n",
      "\n",
      "#### Distribution of num_total_tokens_per_example:\n",
      "min / max: 85, 520\n",
      "mean / median: 409.02899967416096, 424.0\n",
      "p5 / p95: 328.0, 458.0\n",
      "\n",
      "#### Distribution of num_assistant_tokens_per_example:\n",
      "min / max: 2, 3\n",
      "mean / median: 2.4903877484522647, 2.0\n",
      "p5 / p95: 2.0, 3.0\n",
      "\n",
      "0 examples may be over the 4096 token limit, they will be truncated during fine-tuning\n",
      "Dataset has ~1255310 tokens that will be charged for during training\n",
      "By default, you'll train for 1 epochs on this dataset\n",
      "By default, you'll be charged for ~1255310 tokens\n"
     ]
    }
   ],
   "source": [
    "# Constants\n",
    "OPENAI_TRAIN_FILE_NAME = f'train_{MAX_WORDS}_v1'\n",
    "\n",
    "# Create and Validate OpenAI Files\n",
    "create_openai_file(train_df, './data/train.jsonl')\n",
    "\n",
    "# Validate Training file\n",
    "validate_openai_file('./data/train.jsonl')"
   ]
  },
  {
   "cell_type": "markdown",
   "metadata": {},
   "source": [
    "Next the training file should be uploaded to OpenAI."
   ]
  },
  {
   "cell_type": "code",
   "execution_count": 10,
   "metadata": {},
   "outputs": [
    {
     "name": "stdout",
     "output_type": "stream",
     "text": [
      "{\n",
      "  \"object\": \"file\",\n",
      "  \"id\": \"file-ztB4U5Hstjm1ri4vu7UW67hk\",\n",
      "  \"purpose\": \"fine-tune\",\n",
      "  \"filename\": \"train_192_v1\",\n",
      "  \"bytes\": 4462087,\n",
      "  \"created_at\": 1697741628,\n",
      "  \"status\": \"uploaded\",\n",
      "  \"status_details\": null\n",
      "}\n"
     ]
    }
   ],
   "source": [
    "# Upload Training file to OpenAI\n",
    "ft_train_file = openai.File.create(file = open('./data/train.jsonl', 'rb'), \n",
    "                                   purpose = 'fine-tune', \n",
    "                                   user_provided_filename = OPENAI_TRAIN_FILE_NAME)\n",
    "\n",
    "# Summary\n",
    "print(ft_train_file)"
   ]
  },
  {
   "cell_type": "markdown",
   "metadata": {},
   "source": [
    "Next the validation file for OpenAI finetuning is created locally and validated with the code from the OpenAI Cookbook."
   ]
  },
  {
   "cell_type": "code",
   "execution_count": 11,
   "metadata": {},
   "outputs": [
    {
     "name": "stdout",
     "output_type": "stream",
     "text": [
      "\n",
      "======== ./data/validation.jsonl\n",
      "Length Messages: 1559\n",
      "[{'messages': [{'role': 'system', 'content': 'Je bent redacteur bij een krant. Je beoordeeld een krantenartikel of het politiek of neutraal is. Hieronder staat de tekst van het krantenartikel.'}, {'role': 'user', 'content': '### Tekst:\\nVerdachte dodelijke steekpartijen Maastricht langer vastDe 37-jarige man die ervan wordt verdacht afgelopen donderdag twee mensen in Maastricht te hebben doodgestoken, blijft nog twee weken langer vastzitten. Dat heeft de rechter-commissaris vandaag beslist. De man zit in beperkingen en mag dus alleen met zijn advocaat contact hebben.Bij de steekpartijen werden een 46-jarige man bij zijn woning in Botsaartstraat gedood. Ook werd een 56-jarige vrouw in de Joseph Postmesstraat omgebracht. Daar troffen de hulpverleners nog twee gewonden aan: haar 21-jarige dochter en een 50-jarige buurtbewoner die te hulp was geschoten.Korte tijd later bleek dat geen van de aanwezigen in het Maastrichtse wijkcentrum door had dat de dader, met een bebloed gezicht en het mes nog in zijn hand, binnen was gekomen. \"We wisten nog niet wat er gebeurd was en hebben geprobeerd hem kalm te houden met een glaasje water en papiertjes om zijn gezicht schoon te vegen\\'\\', beschreef bestuurslid Osman Öztürk van cultureel centrum Tevhid.Over de toedracht van het geweld is nog niets bekend. Minister Ferdinand Grapperhaus van Justitie en Veiligheid benadrukte de volgende dag dat er geen terroristische achtergrond was. Het ging om een ernstig verwarde man.'}, {'role': 'assistant', 'content': 'Neutraal'}]}]\n",
      "\n",
      "======= OpenAI Validation\n",
      "Num examples: 1559\n",
      "First example:\n",
      "{'role': 'system', 'content': 'Je bent redacteur bij een krant. Je beoordeeld een krantenartikel of het politiek of neutraal is. Hieronder staat de tekst van het krantenartikel.'}\n",
      "{'role': 'user', 'content': '### Tekst:\\nVerdachte dodelijke steekpartijen Maastricht langer vastDe 37-jarige man die ervan wordt verdacht afgelopen donderdag twee mensen in Maastricht te hebben doodgestoken, blijft nog twee weken langer vastzitten. Dat heeft de rechter-commissaris vandaag beslist. De man zit in beperkingen en mag dus alleen met zijn advocaat contact hebben.Bij de steekpartijen werden een 46-jarige man bij zijn woning in Botsaartstraat gedood. Ook werd een 56-jarige vrouw in de Joseph Postmesstraat omgebracht. Daar troffen de hulpverleners nog twee gewonden aan: haar 21-jarige dochter en een 50-jarige buurtbewoner die te hulp was geschoten.Korte tijd later bleek dat geen van de aanwezigen in het Maastrichtse wijkcentrum door had dat de dader, met een bebloed gezicht en het mes nog in zijn hand, binnen was gekomen. \"We wisten nog niet wat er gebeurd was en hebben geprobeerd hem kalm te houden met een glaasje water en papiertjes om zijn gezicht schoon te vegen\\'\\', beschreef bestuurslid Osman Öztürk van cultureel centrum Tevhid.Over de toedracht van het geweld is nog niets bekend. Minister Ferdinand Grapperhaus van Justitie en Veiligheid benadrukte de volgende dag dat er geen terroristische achtergrond was. Het ging om een ernstig verwarde man.'}\n",
      "{'role': 'assistant', 'content': 'Neutraal'}\n",
      "No errors found\n",
      "Num examples missing system message: 0\n",
      "Num examples missing user message: 0\n",
      "\n",
      "#### Distribution of num_messages_per_example:\n",
      "min / max: 3, 3\n",
      "mean / median: 3.0, 3.0\n",
      "p5 / p95: 3.0, 3.0\n",
      "\n",
      "#### Distribution of num_total_tokens_per_example:\n",
      "min / max: 139, 507\n",
      "mean / median: 411.88069275176395, 425.0\n",
      "p5 / p95: 341.0, 461.0\n",
      "\n",
      "#### Distribution of num_assistant_tokens_per_example:\n",
      "min / max: 2, 3\n",
      "mean / median: 2.490699166132136, 2.0\n",
      "p5 / p95: 2.0, 3.0\n",
      "\n",
      "0 examples may be over the 4096 token limit, they will be truncated during fine-tuning\n",
      "Dataset has ~642122 tokens that will be charged for during training\n",
      "By default, you'll train for 1 epochs on this dataset\n",
      "By default, you'll be charged for ~642122 tokens\n"
     ]
    }
   ],
   "source": [
    "# Constants\n",
    "OPENAI_VALIDATION_FILE_NAME = f'validation_{MAX_WORDS}_v1'\n",
    "\n",
    "# Create and Validate OpenAI Files\n",
    "create_openai_file(val_df, './data/validation.jsonl')\n",
    "\n",
    "# Validate Validation file\n",
    "validate_openai_file('./data/validation.jsonl')"
   ]
  },
  {
   "cell_type": "markdown",
   "metadata": {},
   "source": [
    "The validation file should also be uploaded to OpenAI."
   ]
  },
  {
   "cell_type": "code",
   "execution_count": 12,
   "metadata": {},
   "outputs": [
    {
     "name": "stdout",
     "output_type": "stream",
     "text": [
      "{\n",
      "  \"object\": \"file\",\n",
      "  \"id\": \"file-7HBGHKfBt87yKBGk7Kq4ZsPt\",\n",
      "  \"purpose\": \"fine-tune\",\n",
      "  \"filename\": \"validation_192_v1\",\n",
      "  \"bytes\": 2278942,\n",
      "  \"created_at\": 1697741746,\n",
      "  \"status\": \"uploaded\",\n",
      "  \"status_details\": null\n",
      "}\n"
     ]
    }
   ],
   "source": [
    "# Upload Validation file to OpenAI\n",
    "ft_validation_file = openai.File.create(file = open('./data/validation.jsonl', 'rb'), \n",
    "                                        purpose = 'fine-tune', \n",
    "                                        user_provided_filename = OPENAI_VALIDATION_FILE_NAME)\n",
    "\n",
    "# Summary\n",
    "print(ft_validation_file)"
   ]
  },
  {
   "cell_type": "markdown",
   "metadata": {},
   "source": [
    "We do a final verification to look at all the files present in OpenAI."
   ]
  },
  {
   "cell_type": "code",
   "execution_count": 13,
   "metadata": {},
   "outputs": [
    {
     "name": "stdout",
     "output_type": "stream",
     "text": [
      "{\n",
      "  \"object\": \"list\",\n",
      "  \"data\": [\n",
      "    {\n",
      "      \"object\": \"file\",\n",
      "      \"id\": \"file-7HBGHKfBt87yKBGk7Kq4ZsPt\",\n",
      "      \"purpose\": \"fine-tune\",\n",
      "      \"filename\": \"validation_192_v1\",\n",
      "      \"bytes\": 2278942,\n",
      "      \"created_at\": 1697741746,\n",
      "      \"status\": \"uploaded\",\n",
      "      \"status_details\": null\n",
      "    },\n",
      "    {\n",
      "      \"object\": \"file\",\n",
      "      \"id\": \"file-ztB4U5Hstjm1ri4vu7UW67hk\",\n",
      "      \"purpose\": \"fine-tune\",\n",
      "      \"filename\": \"train_192_v1\",\n",
      "      \"bytes\": 4462087,\n",
      "      \"created_at\": 1697741628,\n",
      "      \"status\": \"processed\",\n",
      "      \"status_details\": null\n",
      "    }\n",
      "  ]\n",
      "}\n"
     ]
    }
   ],
   "source": [
    "# List Files\n",
    "openai_files = openai.File.list()\n",
    "print(openai_files)"
   ]
  },
  {
   "cell_type": "markdown",
   "metadata": {},
   "source": [
    "The 2 files are uploaded to OpenAI and can be used in the next section to create a FineTuning Job on OpenAI."
   ]
  },
  {
   "cell_type": "markdown",
   "metadata": {},
   "source": [
    "### 3.3 Create OpenAI Finetuning Job"
   ]
  },
  {
   "cell_type": "markdown",
   "metadata": {},
   "source": [
    "In this section we create a FineTuningJob by specifying the training and validation file Id's, the specific OpenAI model we want to finetune and the number of epochs.\n",
    "\n",
    "For the number of epochs you can leave it at the default setting of 'auto' or specify it by setting an integer value. With 'auto' OpenAI will determine the best number of epochs to use.\n",
    "\n",
    "I personally always use 1 or occassionally 2 epochs. With a good dataset that is usually more than enough to get a good quality out of a finetuned GPT-3.5 model. More epochs might lead to a small increase in model quality but the largest impact is likely only on your creditcard bill for OpenAI ;-)"
   ]
  },
  {
   "cell_type": "code",
   "execution_count": 14,
   "metadata": {},
   "outputs": [
    {
     "name": "stdout",
     "output_type": "stream",
     "text": [
      "{\n",
      "  \"object\": \"fine_tuning.job\",\n",
      "  \"id\": \"ftjob-jAslloAUvYBNVe79mmhjQwXW\",\n",
      "  \"model\": \"gpt-3.5-turbo-0613\",\n",
      "  \"created_at\": 1697741954,\n",
      "  \"finished_at\": null,\n",
      "  \"fine_tuned_model\": null,\n",
      "  \"organization_id\": \"org-L65zldBJfoBsfAyAAE4pGgEt\",\n",
      "  \"result_files\": [],\n",
      "  \"status\": \"validating_files\",\n",
      "  \"validation_file\": \"file-7HBGHKfBt87yKBGk7Kq4ZsPt\",\n",
      "  \"training_file\": \"file-ztB4U5Hstjm1ri4vu7UW67hk\",\n",
      "  \"hyperparameters\": {\n",
      "    \"n_epochs\": 1\n",
      "  },\n",
      "  \"trained_tokens\": null,\n",
      "  \"error\": null\n",
      "}\n",
      "\n",
      "FineTuneJob ID: ftjob-jAslloAUvYBNVe79mmhjQwXW\n"
     ]
    }
   ],
   "source": [
    "# Create finetuned model\n",
    "fine_tune_job = openai.FineTuningJob.create(training_file = ft_train_file['id'],\n",
    "                                            validation_file = ft_validation_file['id'],\n",
    "                                            model = \"gpt-3.5-turbo\",\n",
    "                                            hyperparameters = {\"n_epochs\": 1})\n",
    "\n",
    "# Summary\n",
    "print(fine_tune_job)\n",
    "\n",
    "# Get FineTuningJob Id\n",
    "ft_job_id = fine_tune_job['id']\n",
    "\n",
    "# Summary\n",
    "print(f'\\nFineTuneJob ID: {ft_job_id}')"
   ]
  },
  {
   "cell_type": "markdown",
   "metadata": {},
   "source": [
    "After creating the FineTuning Job we can use the FineTuningJob Id to retrieve the status of the finetuning job."
   ]
  },
  {
   "cell_type": "code",
   "execution_count": 16,
   "metadata": {},
   "outputs": [
    {
     "name": "stdout",
     "output_type": "stream",
     "text": [
      "{\n",
      "  \"object\": \"fine_tuning.job\",\n",
      "  \"id\": \"ftjob-jAslloAUvYBNVe79mmhjQwXW\",\n",
      "  \"model\": \"gpt-3.5-turbo-0613\",\n",
      "  \"created_at\": 1697741954,\n",
      "  \"finished_at\": null,\n",
      "  \"fine_tuned_model\": null,\n",
      "  \"organization_id\": \"org-L65zldBJfoBsfAyAAE4pGgEt\",\n",
      "  \"result_files\": [],\n",
      "  \"status\": \"running\",\n",
      "  \"validation_file\": \"file-7HBGHKfBt87yKBGk7Kq4ZsPt\",\n",
      "  \"training_file\": \"file-ztB4U5Hstjm1ri4vu7UW67hk\",\n",
      "  \"hyperparameters\": {\n",
      "    \"n_epochs\": 1\n",
      "  },\n",
      "  \"trained_tokens\": null,\n",
      "  \"error\": null\n",
      "}\n"
     ]
    }
   ],
   "source": [
    "# Retrieve the state of a fine-tune\n",
    "ft_job = openai.FineTuningJob.retrieve(ft_job_id)\n",
    "\n",
    "# Summary\n",
    "print(ft_job)"
   ]
  },
  {
   "cell_type": "markdown",
   "metadata": {},
   "source": [
    "When using the 'list_events' method we can get even more detailed information from the FineTuning Job while it is running.\n",
    "\n",
    "It will provide basic information about the progress, training and validation loss and training and validation mean token accuracy."
   ]
  },
  {
   "cell_type": "code",
   "execution_count": 25,
   "metadata": {},
   "outputs": [
    {
     "data": {
      "text/plain": [
       "<OpenAIObject list at 0x1ccb4669b30> JSON: {\n",
       "  \"object\": \"list\",\n",
       "  \"data\": [\n",
       "    {\n",
       "      \"object\": \"fine_tuning.job.event\",\n",
       "      \"id\": \"ftevent-i6trvrjDW1LJg431lJ7ILNGQ\",\n",
       "      \"created_at\": 1697745135,\n",
       "      \"level\": \"info\",\n",
       "      \"message\": \"The job has successfully completed\",\n",
       "      \"data\": {},\n",
       "      \"type\": \"message\"\n",
       "    },\n",
       "    {\n",
       "      \"object\": \"fine_tuning.job.event\",\n",
       "      \"id\": \"ftevent-JydNO4vnTRbLpnEEqI3XC3TN\",\n",
       "      \"created_at\": 1697745132,\n",
       "      \"level\": \"info\",\n",
       "      \"message\": \"New fine-tuned model created: ft:gpt-3.5-turbo-0613:personal::8BTLwDu0\",\n",
       "      \"data\": {},\n",
       "      \"type\": \"message\"\n",
       "    },\n",
       "    {\n",
       "      \"object\": \"fine_tuning.job.event\",\n",
       "      \"id\": \"ftevent-sJB1wxTXrscRSuxlx5Tex3D8\",\n",
       "      \"created_at\": 1697745064,\n",
       "      \"level\": \"info\",\n",
       "      \"message\": \"Step 1501/1535: training loss=0.00, validation loss=0.00\",\n",
       "      \"data\": {\n",
       "        \"step\": 1501,\n",
       "        \"train_loss\": 7.629394644936838e-07,\n",
       "        \"valid_loss\": 9.5367431640625e-07,\n",
       "        \"train_mean_token_accuracy\": 1.0,\n",
       "        \"valid_mean_token_accuracy\": 0.0\n",
       "      },\n",
       "      \"type\": \"metrics\"\n",
       "    },\n",
       "    {\n",
       "      \"object\": \"fine_tuning.job.event\",\n",
       "      \"id\": \"ftevent-ZHujsKf3HJ98TOG7NMnlo6MS\",\n",
       "      \"created_at\": 1697744873,\n",
       "      \"level\": \"info\",\n",
       "      \"message\": \"Step 1401/1535: training loss=0.00, validation loss=0.00\",\n",
       "      \"data\": {\n",
       "        \"step\": 1401,\n",
       "        \"train_loss\": 9.5367431640625e-07,\n",
       "        \"valid_loss\": 9.5367431640625e-07,\n",
       "        \"train_mean_token_accuracy\": 1.0,\n",
       "        \"valid_mean_token_accuracy\": 0.0\n",
       "      },\n",
       "      \"type\": \"metrics\"\n",
       "    },\n",
       "    {\n",
       "      \"object\": \"fine_tuning.job.event\",\n",
       "      \"id\": \"ftevent-AAuRgbEL8Rb0hEIBfeUsP0z0\",\n",
       "      \"created_at\": 1697744674,\n",
       "      \"level\": \"info\",\n",
       "      \"message\": \"Step 1301/1535: training loss=0.00, validation loss=1.78\",\n",
       "      \"data\": {\n",
       "        \"step\": 1301,\n",
       "        \"train_loss\": 7.629394644936838e-07,\n",
       "        \"valid_loss\": 1.7824211120605469,\n",
       "        \"train_mean_token_accuracy\": 1.0,\n",
       "        \"valid_mean_token_accuracy\": 0.2222222222222222\n",
       "      },\n",
       "      \"type\": \"metrics\"\n",
       "    }\n",
       "  ],\n",
       "  \"has_more\": true\n",
       "}"
      ]
     },
     "execution_count": 25,
     "metadata": {},
     "output_type": "execute_result"
    }
   ],
   "source": [
    "# List up to 5 events from a fine-tuning job\n",
    "openai.FineTuningJob.list_events(id = ft_job_id, \n",
    "                                 limit = 5)"
   ]
  },
  {
   "cell_type": "markdown",
   "metadata": {},
   "source": [
    "Finetuning takes little over an hour. After finetuning is finished you will receive a confirmation email.\n",
    "\n",
    "The costs for finetuning this model where 9.99 US dollars according to the OpenAI Portal Usage section.\n",
    "\n",
    "If we retrieve the FineTuningJob status again we can get the identifiers for the finetuned model and the finetune metrics results file."
   ]
  },
  {
   "cell_type": "code",
   "execution_count": 26,
   "metadata": {},
   "outputs": [
    {
     "name": "stdout",
     "output_type": "stream",
     "text": [
      "{\n",
      "  \"object\": \"fine_tuning.job\",\n",
      "  \"id\": \"ftjob-jAslloAUvYBNVe79mmhjQwXW\",\n",
      "  \"model\": \"gpt-3.5-turbo-0613\",\n",
      "  \"created_at\": 1697741954,\n",
      "  \"finished_at\": 1697745130,\n",
      "  \"fine_tuned_model\": \"ft:gpt-3.5-turbo-0613:personal::8BTLwDu0\",\n",
      "  \"organization_id\": \"org-L65zldBJfoBsfAyAAE4pGgEt\",\n",
      "  \"result_files\": [\n",
      "    \"file-AGxlfeuMqnvHGlePBEzI6uo4\"\n",
      "  ],\n",
      "  \"status\": \"succeeded\",\n",
      "  \"validation_file\": \"file-7HBGHKfBt87yKBGk7Kq4ZsPt\",\n",
      "  \"training_file\": \"file-ztB4U5Hstjm1ri4vu7UW67hk\",\n",
      "  \"hyperparameters\": {\n",
      "    \"n_epochs\": 1\n",
      "  },\n",
      "  \"trained_tokens\": 1249172,\n",
      "  \"error\": null\n",
      "}\n"
     ]
    }
   ],
   "source": [
    "# Retrieve the state of a fine-tune\n",
    "ft_job = openai.FineTuningJob.retrieve(ft_job_id)\n",
    "\n",
    "# Summary\n",
    "print(ft_job)"
   ]
  },
  {
   "cell_type": "code",
   "execution_count": 27,
   "metadata": {},
   "outputs": [
    {
     "name": "stdout",
     "output_type": "stream",
     "text": [
      "Metrics Result File ID: ['file-AGxlfeuMqnvHGlePBEzI6uo4']\n",
      "FineTuned Model Identifier: ft:gpt-3.5-turbo-0613:personal::8BTLwDu0\n"
     ]
    }
   ],
   "source": [
    "# Get Results File ID from FinetuningJob\n",
    "ft_file_results_id = ft_job['result_files']\n",
    "print(f'Metrics Result File ID: {ft_file_results_id}')\n",
    "\n",
    "# Get FineTuned Model Identifier\n",
    "ft_model_id = ft_job['fine_tuned_model']\n",
    "print(f'FineTuned Model Identifier: {ft_model_id}')"
   ]
  },
  {
   "cell_type": "markdown",
   "metadata": {},
   "source": [
    "The identifier of the finetuned model we will use in the next notebook where we will further explore the validation proces.\n",
    "\n",
    "The metrics results file is however very interresting as it will show us the information of the model training and validation proces."
   ]
  },
  {
   "cell_type": "code",
   "execution_count": 28,
   "metadata": {},
   "outputs": [
    {
     "name": "stdout",
     "output_type": "stream",
     "text": [
      "b'step,train_loss,train_accuracy,valid_loss,valid_mean_token_accuracy\\n1,2.43626,0.6,2.81694,0.2\\n2,2.16328,0.6,,\\n3,3.28541,0.55556,,\\n4,2.35687,0.625,,\\n5,2.34615,0.55556,,\\n6,3.06241,0.55556,,\\n7,3.10442,0.6,,\\n8,2.74379,0.55556,,\\n9,2.24617,0.6,,\\n10,2.02713,0.6,,\\n11,2.13463,0.6,,\\n12,2.27223,0.6,,\\n13,2.19278,0.6,,\\n14,1.89745,0.55556,,\\n15,2.07696,0.55556,,\\n16,1.6227,0.6,,\\n17,2.0357,0.55556,,\\n18,2.15732,0.6,,\\n19,1.94858,0.55556,,\\n20,1.65515,0.7,,\\n21,1.55206,0.66667,,\\n22,1.67942,0.6,,\\n23,1.07125,0.7,,\\n24,1.11413,0.66667,,\\n25,1.19421,0.625,,\\n26,1.46771,0.55556,,\\n27,0.88026,0.66667,,\\n28,0.6418,0.6,,\\n29,0.74135,0.7,,\\n30,0.77597,0.66667,,\\n31,0.39392,0.875,,\\n32,0.4443,0.77778,,\\n33,0.32988,0.77778,,\\n34,0.26647,0.88889,,\\n35,0.31708,0.8,,\\n36,0.19888,0.9,,\\n37,0.28707,0.88889,,\\n38,0.4346,0.875,,\\n39,0.57038,0.75,,\\n40,0.16347,0.88889,,\\n41,0.20514,0.8,,\\n42,0.11666,0.9,,\\n43,0.17575,0.875,,\\n44,0.15915,0.88889,,\\n45,0.06909,1.0,,\\n46,0.12288,0.875,,\\n47,0.24029,0.77778,,\\n48,0.20849,0.9,,\\n49,0.17476,0.875,,\\n50,0.05082,1.0,,\\n51,0.23926,0.88889,,\\n52,0.11738,1.0,,\\n53,0.09,1.0,,\\n54,0.29278,0.875,,\\n55,0.05472,1.0,,\\n56,0.07004,1.0,,\\n57,0.12007,0.875,,\\n58,0.59018,0.8,,\\n59,0.02806,1.0,,\\n60,0.30868,0.8,,\\n61,0.30589,0.88889,,\\n62,0.03263,1.0,,\\n63,0.26064,0.88889,,\\n64,0.46676,0.8,,\\n65,0.03177,1.0,,\\n66,0.31211,0.88889,,\\n67,0.02266,1.0,,\\n68,0.32301,0.88889,,\\n69,0.24726,0.88889,,\\n70,0.26446,0.88889,,\\n71,0.0304,1.0,,\\n72,0.04302,1.0,,\\n73,0.34656,0.8,,\\n74,0.16007,0.88889,,\\n75,0.02912,1.0,,\\n76,0.29529,0.8,,\\n77,0.11474,0.88889,,\\n78,0.03724,1.0,,\\n79,0.17113,0.88889,,\\n80,0.25794,0.88889,,\\n81,0.28252,0.88889,,\\n82,0.25412,0.9,,\\n83,0.34774,0.77778,,\\n84,0.15158,0.88889,,\\n85,0.04726,1.0,,\\n86,0.08676,0.9,,\\n87,0.24122,0.77778,,\\n88,0.10565,0.9,,\\n89,0.17154,0.875,,\\n90,0.05863,1.0,,\\n91,0.15073,0.88889,,\\n92,0.04179,1.0,,\\n93,0.22298,0.875,,\\n94,0.0307,1.0,,\\n95,0.00991,1.0,,\\n96,0.21612,0.88889,,\\n97,0.00677,1.0,,\\n98,0.18501,0.88889,,\\n99,0.01904,1.0,,\\n100,0.88651,0.75,,\\n101,0.33381,0.88889,0.24695,0.22222\\n102,0.0044,1.0,,\\n103,0.66522,0.88889,,\\n104,0.20741,0.88889,,\\n105,0.49706,0.75,,\\n106,0.4265,0.77778,,\\n107,0.23958,0.88889,,\\n108,0.29683,0.75,,\\n109,0.02664,1.0,,\\n110,0.06671,1.0,,\\n111,0.45723,0.875,,\\n112,0.16372,0.875,,\\n113,0.20741,0.875,,\\n114,0.16514,0.9,,\\n115,0.26223,0.77778,,\\n116,0.27722,0.75,,\\n117,0.21482,0.88889,,\\n118,0.11899,0.88889,,\\n119,0.19874,0.8,,\\n120,0.10078,1.0,,\\n121,0.27359,0.9,,\\n122,0.08764,1.0,,\\n123,0.2295,0.88889,,\\n124,0.22146,0.77778,,\\n125,0.16885,0.9,,\\n126,0.15615,0.875,,\\n127,0.20138,0.875,,\\n128,0.05543,1.0,,\\n129,0.26674,0.77778,,\\n130,0.12342,0.88889,,\\n131,0.12401,1.0,,\\n132,0.1166,0.88889,,\\n133,0.10886,1.0,,\\n134,0.12564,0.9,,\\n135,0.19817,0.88889,,\\n136,0.03855,1.0,,\\n137,0.19591,0.88889,,\\n138,0.24221,0.88889,,\\n139,0.08895,0.88889,,\\n140,0.21778,0.8,,\\n141,0.01402,1.0,,\\n142,0.21036,0.88889,,\\n143,0.03576,1.0,,\\n144,0.29726,0.75,,\\n145,0.20187,0.88889,,\\n146,0.03638,1.0,,\\n147,0.28947,0.75,,\\n148,0.15509,0.88889,,\\n149,0.04551,1.0,,\\n150,0.34951,0.77778,,\\n151,0.25736,0.88889,,\\n152,0.04016,1.0,,\\n153,0.09687,1.0,,\\n154,0.16003,0.88889,,\\n155,0.21907,0.88889,,\\n156,0.26449,0.8,,\\n157,0.2379,0.88889,,\\n158,0.33007,0.77778,,\\n159,0.32807,0.8,,\\n160,0.36935,0.8,,\\n161,0.08499,1.0,,\\n162,0.0906,1.0,,\\n163,0.06814,1.0,,\\n164,0.23239,0.875,,\\n165,0.18688,0.77778,,\\n166,0.21176,0.875,,\\n167,0.18974,0.88889,,\\n168,0.18555,0.875,,\\n169,0.20259,0.88889,,\\n170,0.11385,1.0,,\\n171,0.14785,0.9,,\\n172,0.19405,0.88889,,\\n173,0.06605,1.0,,\\n174,0.57948,0.875,,\\n175,0.08236,0.9,,\\n176,0.16122,0.88889,,\\n177,0.46531,0.75,,\\n178,0.0667,1.0,,\\n179,0.44935,0.75,,\\n180,0.15327,0.88889,,\\n181,0.34817,0.75,,\\n182,0.39606,0.75,,\\n183,0.10102,0.88889,,\\n184,0.09802,1.0,,\\n185,0.13224,0.88889,,\\n186,0.11699,1.0,,\\n187,0.18837,0.9,,\\n188,0.09913,1.0,,\\n189,0.18267,0.9,,\\n190,0.17418,0.875,,\\n191,0.10016,0.9,,\\n192,0.06892,1.0,,\\n193,0.19272,0.88889,,\\n194,0.1788,0.88889,,\\n195,0.10244,0.9,,\\n196,0.3323,0.75,,\\n197,0.45983,0.75,,\\n198,0.21256,0.88889,,\\n199,0.0616,1.0,,\\n200,0.42516,0.75,,\\n201,0.11146,1.0,0.11991,0.4\\n202,0.0995,1.0,,\\n203,0.38692,0.77778,,\\n204,0.08847,1.0,,\\n205,0.16486,0.875,,\\n206,0.23919,0.88889,,\\n207,0.07759,1.0,,\\n208,0.21967,0.77778,,\\n209,0.23785,0.9,,\\n210,0.11098,1.0,,\\n211,0.07484,1.0,,\\n212,0.25487,0.77778,,\\n213,0.07243,1.0,,\\n214,0.18629,0.9,,\\n215,0.21698,0.75,,\\n216,0.06817,1.0,,\\n217,0.19347,0.9,,\\n218,0.06799,1.0,,\\n219,0.38161,0.75,,\\n220,0.29145,0.88889,,\\n221,0.23167,0.88889,,\\n222,0.23952,0.88889,,\\n223,0.2719,0.75,,\\n224,0.08008,1.0,,\\n225,0.15249,0.9,,\\n226,0.08523,1.0,,\\n227,0.23559,0.77778,,\\n228,0.15659,0.875,,\\n229,0.08626,1.0,,\\n230,0.16183,0.88889,,\\n231,0.19828,0.75,,\\n232,0.14018,1.0,,\\n233,0.09237,1.0,,\\n234,0.09177,0.88889,,\\n235,0.09936,1.0,,\\n236,0.12498,0.88889,,\\n237,0.18927,0.875,,\\n238,0.12479,0.88889,,\\n239,0.15327,0.88889,,\\n240,0.14301,0.88889,,\\n241,0.16381,0.88889,,\\n242,0.34329,0.8,,\\n243,0.17254,0.77778,,\\n244,0.07327,1.0,,\\n245,0.17046,0.9,,\\n246,0.16627,0.88889,,\\n247,0.33994,0.75,,\\n248,0.26891,0.75,,\\n249,0.19446,0.88889,,\\n250,0.14468,0.88889,,\\n251,0.07712,1.0,,\\n252,0.04725,1.0,,\\n253,0.12634,0.88889,,\\n254,0.11394,0.88889,,\\n255,0.13798,0.9,,\\n256,0.06042,1.0,,\\n257,0.22479,0.875,,\\n258,0.34227,0.75,,\\n259,0.10102,0.88889,,\\n260,0.09689,1.0,,\\n261,0.20599,0.8,,\\n262,0.03391,1.0,,\\n263,0.31286,0.9,,\\n264,0.14801,1.0,,\\n265,0.04412,1.0,,\\n266,0.13994,1.0,,\\n267,0.25185,0.875,,\\n268,0.07216,1.0,,\\n269,0.03022,1.0,,\\n270,0.31309,0.8,,\\n271,0.16513,0.88889,,\\n272,0.05072,1.0,,\\n273,0.00966,1.0,,\\n274,0.15828,0.9,,\\n275,0.06567,1.0,,\\n276,0.06099,1.0,,\\n277,0.16666,0.875,,\\n278,0.21284,0.88889,,\\n279,0.53766,0.8,,\\n280,0.42008,0.77778,,\\n281,0.2628,0.88889,,\\n282,0.42649,0.9,,\\n283,0.00905,1.0,,\\n284,0.00702,1.0,,\\n285,0.0056,1.0,,\\n286,0.16458,0.9,,\\n287,0.29903,0.9,,\\n288,0.007,1.0,,\\n289,0.62217,0.88889,,\\n290,0.03764,1.0,,\\n291,0.41571,0.88889,,\\n292,0.00036,1.0,,\\n293,0.23916,0.75,,\\n294,1.40347,0.75,,\\n295,0.00019,1.0,,\\n296,0.27295,0.88889,,\\n297,1.40602,0.75,,\\n298,0.00025,1.0,,\\n299,0.00074,1.0,,\\n300,0.0001,1.0,,\\n301,0.7519,0.88889,0.84403,0.22222\\n302,2.00063,0.75,,\\n303,0.03052,1.0,,\\n304,0.89823,0.75,,\\n305,0.60852,0.75,,\\n306,0.00571,1.0,,\\n307,0.48302,0.88889,,\\n308,0.64399,0.875,,\\n309,0.29594,0.88889,,\\n310,0.42869,0.8,,\\n311,0.22412,0.875,,\\n312,0.53741,0.75,,\\n313,0.09074,1.0,,\\n314,0.09728,0.88889,,\\n315,0.01367,1.0,,\\n316,0.02501,1.0,,\\n317,0.01104,1.0,,\\n318,0.05635,1.0,,\\n319,0.00875,1.0,,\\n320,0.00138,1.0,,\\n321,0.00276,1.0,,\\n322,0.22136,0.88889,,\\n323,0.04238,1.0,,\\n324,0.19351,0.88889,,\\n325,0.47241,0.88889,,\\n326,0.64718,0.88889,,\\n327,0.55516,0.88889,,\\n328,0.07204,1.0,,\\n329,0.00746,1.0,,\\n330,0.16118,0.88889,,\\n331,0.11544,0.875,,\\n332,0.42177,0.875,,\\n333,0.82754,0.88889,,\\n334,0.40917,0.88889,,\\n335,0.71515,0.875,,\\n336,0.09907,0.875,,\\n337,0.04264,1.0,,\\n338,0.01858,1.0,,\\n339,0.00494,1.0,,\\n340,0.0047,1.0,,\\n341,0.0026,1.0,,\\n342,0.33913,0.9,,\\n343,0.00436,1.0,,\\n344,0.13689,0.88889,,\\n345,0.07186,1.0,,\\n346,0.49239,0.88889,,\\n347,0.23345,0.875,,\\n348,0.05357,1.0,,\\n349,0.02526,1.0,,\\n350,0.00155,1.0,,\\n351,0.4565,0.88889,,\\n352,0.12747,0.9,,\\n353,0.08227,0.88889,,\\n354,0.49254,0.9,,\\n355,0.02129,1.0,,\\n356,0.03433,1.0,,\\n357,0.17507,0.88889,,\\n358,0.01035,1.0,,\\n359,0.00255,1.0,,\\n360,0.04527,1.0,,\\n361,0.10034,1.0,,\\n362,0.01356,1.0,,\\n363,0.07663,1.0,,\\n364,0.00056,1.0,,\\n365,0.59451,0.88889,,\\n366,0.00031,1.0,,\\n367,0.78051,0.88889,,\\n368,0.31842,0.9,,\\n369,1.84443,0.75,,\\n370,0.91367,0.88889,,\\n371,0.02476,1.0,,\\n372,0.49444,0.875,,\\n373,0.91966,0.77778,,\\n374,0.00055,1.0,,\\n375,0.08959,0.88889,,\\n376,0.21086,0.875,,\\n377,0.00203,1.0,,\\n378,0.255,0.88889,,\\n379,0.00029,1.0,,\\n380,0.2009,0.9,,\\n381,0.40817,0.875,,\\n382,0.00358,1.0,,\\n383,0.15395,0.88889,,\\n384,0.10944,1.0,,\\n385,0.00061,1.0,,\\n386,0.59909,0.77778,,\\n387,0.00233,1.0,,\\n388,0.34923,0.88889,,\\n389,0.00193,1.0,,\\n390,0.00011,1.0,,\\n391,0.18881,0.88889,,\\n392,0.52768,0.88889,,\\n393,1.35892,0.8,,\\n394,0.65894,0.88889,,\\n395,0.40598,0.875,,\\n396,0.05948,1.0,,\\n397,0.23716,0.875,,\\n398,0.01448,1.0,,\\n399,0.01457,1.0,,\\n400,0.97965,0.875,,\\n401,0.00342,1.0,0.1732,0.22222\\n402,0.27569,0.875,,\\n403,0.53265,0.88889,,\\n404,9e-05,1.0,,\\n405,0.001,1.0,,\\n406,0.3203,0.88889,,\\n407,0.0028,1.0,,\\n408,0.00142,1.0,,\\n409,0.02166,1.0,,\\n410,0.13249,0.875,,\\n411,0.05539,1.0,,\\n412,0.43288,0.88889,,\\n413,0.89843,0.88889,,\\n414,1.37477,0.77778,,\\n415,0.1737,0.9,,\\n416,0.95264,0.875,,\\n417,0.00049,1.0,,\\n418,0.72885,0.875,,\\n419,0.02905,1.0,,\\n420,0.52526,0.9,,\\n421,4e-05,1.0,,\\n422,1.21899,0.77778,,\\n423,0.0251,1.0,,\\n424,0.01144,1.0,,\\n425,0.03234,1.0,,\\n426,1.39048,0.75,,\\n427,0.02737,1.0,,\\n428,0.22688,0.88889,,\\n429,0.00736,1.0,,\\n430,0.03913,1.0,,\\n431,0.00212,1.0,,\\n432,0.21166,0.875,,\\n433,0.08563,0.88889,,\\n434,0.34958,0.875,,\\n435,0.01204,1.0,,\\n436,0.00799,1.0,,\\n437,0.0261,1.0,,\\n438,0.00224,1.0,,\\n439,0.01884,1.0,,\\n440,0.00036,1.0,,\\n441,0.09927,0.875,,\\n442,0.00026,1.0,,\\n443,5e-05,1.0,,\\n444,0.00069,1.0,,\\n445,0.00886,1.0,,\\n446,0.00631,1.0,,\\n447,0.10489,0.875,,\\n448,2e-05,1.0,,\\n449,0.00166,1.0,,\\n450,2e-05,1.0,,\\n451,1.05601,0.875,,\\n452,9e-05,1.0,,\\n453,2e-05,1.0,,\\n454,3e-05,1.0,,\\n455,0.59836,0.88889,,\\n456,0.57635,0.9,,\\n457,1e-05,1.0,,\\n458,0.00011,1.0,,\\n459,1e-05,1.0,,\\n460,0.08961,0.88889,,\\n461,1e-05,1.0,,\\n462,1e-05,1.0,,\\n463,0.46062,0.875,,\\n464,1.31484,0.88889,,\\n465,1.55984,0.9,,\\n466,0.00014,1.0,,\\n467,1.81368,0.88889,,\\n468,0.90254,0.88889,,\\n469,1.76879,0.88889,,\\n470,2e-05,1.0,,\\n471,1e-05,1.0,,\\n472,1e-05,1.0,,\\n473,7e-05,1.0,,\\n474,0.00088,1.0,,\\n475,1e-05,1.0,,\\n476,1.10149,0.88889,,\\n477,1e-05,1.0,,\\n478,0.89588,0.75,,\\n479,1.56,0.88889,,\\n480,1.40182,0.88889,,\\n481,1.31117,0.9,,\\n482,1e-05,1.0,,\\n483,0.0,1.0,,\\n484,1e-05,1.0,,\\n485,0.00462,1.0,,\\n486,2e-05,1.0,,\\n487,1e-05,1.0,,\\n488,0.9712,0.88889,,\\n489,0.44309,0.875,,\\n490,0.35502,0.875,,\\n491,1e-05,1.0,,\\n492,1.48983,0.88889,,\\n493,1e-05,1.0,,\\n494,2e-05,1.0,,\\n495,1e-05,1.0,,\\n496,1.15748,0.88889,,\\n497,1e-05,1.0,,\\n498,0.30631,0.88889,,\\n499,1.66044,0.9,,\\n500,0.0,1.0,,\\n501,1.39087,0.9,0.30732,0.4\\n502,1.1913,0.88889,,\\n503,1.67637,0.88889,,\\n504,1.87831,0.8,,\\n505,0.0,1.0,,\\n506,2.59316,0.77778,,\\n507,1.28048,0.88889,,\\n508,0.23777,0.9,,\\n509,0.05774,1.0,,\\n510,1e-05,1.0,,\\n511,0.0,1.0,,\\n512,0.0,1.0,,\\n513,1e-05,1.0,,\\n514,0.0,1.0,,\\n515,0.67803,0.9,,\\n516,0.0,1.0,,\\n517,1e-05,1.0,,\\n518,1.67393,0.88889,,\\n519,0.00012,1.0,,\\n520,1e-05,1.0,,\\n521,0.81085,0.875,,\\n522,0.0,1.0,,\\n523,1.30869,0.9,,\\n524,0.0,1.0,,\\n525,0.0,1.0,,\\n526,1.21569,0.88889,,\\n527,3e-05,1.0,,\\n528,0.8376,0.875,,\\n529,0.0,1.0,,\\n530,0.0,1.0,,\\n531,0.0,1.0,,\\n532,0.0,1.0,,\\n533,2.08231,0.88889,,\\n534,0.0,1.0,,\\n535,0.0,1.0,,\\n536,0.00021,1.0,,\\n537,1.46998,0.9,,\\n538,0.0,1.0,,\\n539,0.0,1.0,,\\n540,0.23143,0.88889,,\\n541,1.7791,0.88889,,\\n542,0.0,1.0,,\\n543,0.0,1.0,,\\n544,1.05488,0.88889,,\\n545,4e-05,1.0,,\\n546,0.6539,0.88889,,\\n547,0.18999,0.875,,\\n548,0.0,1.0,,\\n549,1.58058,0.88889,,\\n550,0.00123,1.0,,\\n551,0.0,1.0,,\\n552,0.0,1.0,,\\n553,1e-05,1.0,,\\n554,0.0,1.0,,\\n555,0.0,1.0,,\\n556,0.17902,0.88889,,\\n557,0.18922,0.9,,\\n558,0.0,1.0,,\\n559,0.0,1.0,,\\n560,1.82879,0.9,,\\n561,1.20765,0.9,,\\n562,2.27178,0.875,,\\n563,0.0,1.0,,\\n564,0.0,1.0,,\\n565,0.0,1.0,,\\n566,0.0,1.0,,\\n567,0.02634,1.0,,\\n568,0.0,1.0,,\\n569,0.0,1.0,,\\n570,1e-05,1.0,,\\n571,0.01363,1.0,,\\n572,0.0,1.0,,\\n573,0.0,1.0,,\\n574,0.0,1.0,,\\n575,0.0,1.0,,\\n576,0.92219,0.88889,,\\n577,0.0,1.0,,\\n578,2.31349,0.88889,,\\n579,1.659,0.88889,,\\n580,2.76775,0.875,,\\n581,1.55342,0.9,,\\n582,4.70781,0.75,,\\n583,0.0,1.0,,\\n584,0.65933,0.88889,,\\n585,0.0,1.0,,\\n586,1.94671,0.88889,,\\n587,2.09862,0.88889,,\\n588,1.48576,0.88889,,\\n589,0.01062,1.0,,\\n590,1e-05,1.0,,\\n591,1e-05,1.0,,\\n592,1.16073,0.88889,,\\n593,1.00896,0.875,,\\n594,0.58985,0.77778,,\\n595,0.61641,0.9,,\\n596,2e-05,1.0,,\\n597,3e-05,1.0,,\\n598,0.00052,1.0,,\\n599,0.0001,1.0,,\\n600,0.0,1.0,,\\n601,0.94844,0.9,1e-05,0.0\\n602,1.14121,0.88889,,\\n603,0.00087,1.0,,\\n604,0.0151,1.0,,\\n605,0.02341,1.0,,\\n606,0.17495,0.88889,,\\n607,0.0,1.0,,\\n608,2e-05,1.0,,\\n609,0.00329,1.0,,\\n610,0.0,1.0,,\\n611,0.0,1.0,,\\n612,1.46494,0.9,,\\n613,0.93568,0.88889,,\\n614,0.89805,0.9,,\\n615,0.0,1.0,,\\n616,0.00045,1.0,,\\n617,0.69668,0.88889,,\\n618,0.0,1.0,,\\n619,0.0,1.0,,\\n620,0.74931,0.875,,\\n621,0.0,1.0,,\\n622,0.0,1.0,,\\n623,0.03317,1.0,,\\n624,0.28276,0.9,,\\n625,0.0,1.0,,\\n626,0.0,1.0,,\\n627,0.00016,1.0,,\\n628,0.0,1.0,,\\n629,1e-05,1.0,,\\n630,0.0,1.0,,\\n631,0.0,1.0,,\\n632,0.0,1.0,,\\n633,0.00015,1.0,,\\n634,1.3634,0.9,,\\n635,0.93306,0.77778,,\\n636,0.00014,1.0,,\\n637,2e-05,1.0,,\\n638,0.0,1.0,,\\n639,2e-05,1.0,,\\n640,0.0,1.0,,\\n641,0.0,1.0,,\\n642,2.11395,0.8,,\\n643,0.0,1.0,,\\n644,0.0,1.0,,\\n645,3.11283,0.77778,,\\n646,0.0,1.0,,\\n647,0.0,1.0,,\\n648,0.0,1.0,,\\n649,0.91796,0.875,,\\n650,0.52,0.88889,,\\n651,0.0,1.0,,\\n652,1.02625,0.9,,\\n653,0.0,1.0,,\\n654,2.34174,0.88889,,\\n655,0.77677,0.9,,\\n656,1.58589,0.9,,\\n657,0.0,1.0,,\\n658,0.0,1.0,,\\n659,0.0,1.0,,\\n660,0.0,1.0,,\\n661,0.0,1.0,,\\n662,0.0,1.0,,\\n663,3.17304,0.77778,,\\n664,1.42791,0.875,,\\n665,0.0,1.0,,\\n666,0.0,1.0,,\\n667,0.0,1.0,,\\n668,0.24319,0.9,,\\n669,0.0,1.0,,\\n670,1.59092,0.9,,\\n671,0.0,1.0,,\\n672,0.4302,0.88889,,\\n673,0.0,1.0,,\\n674,1.30713,0.88889,,\\n675,1.31508,0.9,,\\n676,0.00103,1.0,,\\n677,0.39836,0.9,,\\n678,0.0,1.0,,\\n679,0.02984,1.0,,\\n680,0.0,1.0,,\\n681,0.0,1.0,,\\n682,0.0,1.0,,\\n683,0.0,1.0,,\\n684,0.0,1.0,,\\n685,0.12014,0.88889,,\\n686,0.0,1.0,,\\n687,0.0,1.0,,\\n688,0.0,1.0,,\\n689,0.0,1.0,,\\n690,0.0,1.0,,\\n691,0.0,1.0,,\\n692,0.0,1.0,,\\n693,0.0,1.0,,\\n694,0.0,1.0,,\\n695,0.0,1.0,,\\n696,0.0,1.0,,\\n697,3e-05,1.0,,\\n698,0.0,1.0,,\\n699,0.0,1.0,,\\n700,0.0,1.0,,\\n701,0.0,1.0,0.0,0.0\\n702,0.00097,1.0,,\\n703,2.70452,0.88889,,\\n704,0.0,1.0,,\\n705,0.0,1.0,,\\n706,0.0,1.0,,\\n707,0.0,1.0,,\\n708,0.0,1.0,,\\n709,0.0,1.0,,\\n710,0.0,1.0,,\\n711,0.0,1.0,,\\n712,0.0,1.0,,\\n713,0.0007,1.0,,\\n714,0.0,1.0,,\\n715,2.45287,0.88889,,\\n716,0.0,1.0,,\\n717,0.0,1.0,,\\n718,0.0,1.0,,\\n719,0.0,1.0,,\\n720,0.0,1.0,,\\n721,1.48728,0.875,,\\n722,0.0,1.0,,\\n723,0.0,1.0,,\\n724,0.0,1.0,,\\n725,1.32523,0.88889,,\\n726,0.0,1.0,,\\n727,0.0,1.0,,\\n728,3e-05,1.0,,\\n729,0.0,1.0,,\\n730,0.0,1.0,,\\n731,1.92051,0.9,,\\n732,3.10333,0.875,,\\n733,0.43895,0.875,,\\n734,0.77304,0.88889,,\\n735,0.0,1.0,,\\n736,0.0,1.0,,\\n737,0.0,1.0,,\\n738,0.08967,0.88889,,\\n739,0.0,1.0,,\\n740,0.0,1.0,,\\n741,0.0,1.0,,\\n742,0.0,1.0,,\\n743,0.14509,0.88889,,\\n744,0.0,1.0,,\\n745,0.0,1.0,,\\n746,0.0,1.0,,\\n747,1.73374,0.9,,\\n748,0.0,1.0,,\\n749,0.0,1.0,,\\n750,0.0,1.0,,\\n751,0.05982,1.0,,\\n752,1.40256,0.875,,\\n753,0.0,1.0,,\\n754,0.0,1.0,,\\n755,0.0,1.0,,\\n756,0.0,1.0,,\\n757,3.08864,0.8,,\\n758,0.0,1.0,,\\n759,0.00131,1.0,,\\n760,0.0,1.0,,\\n761,0.0,1.0,,\\n762,0.0,1.0,,\\n763,0.0,1.0,,\\n764,2.31683,0.8,,\\n765,0.0,1.0,,\\n766,0.0,1.0,,\\n767,0.00089,1.0,,\\n768,1.49621,0.9,,\\n769,0.0,1.0,,\\n770,0.0,1.0,,\\n771,0.0,1.0,,\\n772,1.9542,0.875,,\\n773,0.0,1.0,,\\n774,1.51615,0.875,,\\n775,0.23098,0.88889,,\\n776,0.0,1.0,,\\n777,0.0,1.0,,\\n778,0.0,1.0,,\\n779,1e-05,1.0,,\\n780,0.0,1.0,,\\n781,0.0,1.0,,\\n782,1.54225,0.9,,\\n783,0.0,1.0,,\\n784,0.0,1.0,,\\n785,0.0,1.0,,\\n786,0.0,1.0,,\\n787,0.78619,0.875,,\\n788,0.0,1.0,,\\n789,0.00094,1.0,,\\n790,6e-05,1.0,,\\n791,0.00021,1.0,,\\n792,0.0,1.0,,\\n793,1.74992,0.88889,,\\n794,0.0,1.0,,\\n795,0.0,1.0,,\\n796,0.0,1.0,,\\n797,0.0,1.0,,\\n798,0.0,1.0,,\\n799,0.0,1.0,,\\n800,0.0,1.0,,\\n801,0.0,1.0,0.00012,0.22222\\n802,0.0,1.0,,\\n803,0.0,1.0,,\\n804,0.0,1.0,,\\n805,0.0,1.0,,\\n806,0.0,1.0,,\\n807,1.86459,0.88889,,\\n808,0.04499,1.0,,\\n809,0.0,1.0,,\\n810,0.0,1.0,,\\n811,1.89838,0.875,,\\n812,0.0,1.0,,\\n813,0.02004,1.0,,\\n814,0.0,1.0,,\\n815,0.0,1.0,,\\n816,0.0,1.0,,\\n817,0.0,1.0,,\\n818,0.51332,0.88889,,\\n819,1.65923,0.88889,,\\n820,0.0,1.0,,\\n821,0.0,1.0,,\\n822,2.93511,0.875,,\\n823,0.0,1.0,,\\n824,1.04757,0.9,,\\n825,1.68519,0.88889,,\\n826,1.3884,0.9,,\\n827,0.0,1.0,,\\n828,0.0,1.0,,\\n829,1.38765,0.9,,\\n830,1e-05,1.0,,\\n831,2.42063,0.875,,\\n832,0.76942,0.875,,\\n833,2.13234,0.88889,,\\n834,0.0,1.0,,\\n835,0.0,1.0,,\\n836,1.10744,0.88889,,\\n837,0.0,1.0,,\\n838,1e-05,1.0,,\\n839,0.0,1.0,,\\n840,1.41677,0.88889,,\\n841,0.5157,0.88889,,\\n842,0.0,1.0,,\\n843,0.0,1.0,,\\n844,0.0,1.0,,\\n845,0.0,1.0,,\\n846,0.0,1.0,,\\n847,0.0,1.0,,\\n848,2e-05,1.0,,\\n849,0.0,1.0,,\\n850,0.00384,1.0,,\\n851,0.00036,1.0,,\\n852,0.0,1.0,,\\n853,0.0,1.0,,\\n854,1.43392,0.9,,\\n855,0.0,1.0,,\\n856,1.68049,0.88889,,\\n857,0.0,1.0,,\\n858,0.0,1.0,,\\n859,0.0,1.0,,\\n860,0.0,1.0,,\\n861,0.34559,0.88889,,\\n862,1.37727,0.88889,,\\n863,0.0,1.0,,\\n864,1.70856,0.88889,,\\n865,1e-05,1.0,,\\n866,0.0,1.0,,\\n867,0.0,1.0,,\\n868,0.0,1.0,,\\n869,0.0,1.0,,\\n870,0.0,1.0,,\\n871,0.0,1.0,,\\n872,0.0,1.0,,\\n873,0.0,1.0,,\\n874,0.0,1.0,,\\n875,0.0,1.0,,\\n876,0.0,1.0,,\\n877,2.28702,0.88889,,\\n878,0.0,1.0,,\\n879,0.0,1.0,,\\n880,0.0,1.0,,\\n881,1.02125,0.88889,,\\n882,0.0,1.0,,\\n883,0.0,1.0,,\\n884,0.0,1.0,,\\n885,1.57016,0.9,,\\n886,0.0,1.0,,\\n887,0.0,1.0,,\\n888,0.32096,0.9,,\\n889,0.0,1.0,,\\n890,0.0,1.0,,\\n891,0.00036,1.0,,\\n892,0.00011,1.0,,\\n893,0.0,1.0,,\\n894,0.0,1.0,,\\n895,0.0,1.0,,\\n896,0.0,1.0,,\\n897,1.46492,0.88889,,\\n898,0.0,1.0,,\\n899,0.0,1.0,,\\n900,0.0,1.0,,\\n901,0.0,1.0,0.0,0.0\\n902,1.97394,0.88889,,\\n903,0.0,1.0,,\\n904,0.86247,0.88889,,\\n905,0.0,1.0,,\\n906,0.0,1.0,,\\n907,0.0,1.0,,\\n908,0.0,1.0,,\\n909,0.0,1.0,,\\n910,0.0,1.0,,\\n911,0.0,1.0,,\\n912,0.0,1.0,,\\n913,0.0,1.0,,\\n914,0.0,1.0,,\\n915,0.0,1.0,,\\n916,0.0,1.0,,\\n917,1.48296,0.9,,\\n918,1.37997,0.88889,,\\n919,0.0,1.0,,\\n920,2.04038,0.88889,,\\n921,0.0,1.0,,\\n922,0.0,1.0,,\\n923,0.0,1.0,,\\n924,0.0,1.0,,\\n925,1.63648,0.88889,,\\n926,0.0,1.0,,\\n927,0.0,1.0,,\\n928,0.0,1.0,,\\n929,3e-05,1.0,,\\n930,1.5892,0.9,,\\n931,3e-05,1.0,,\\n932,0.0,1.0,,\\n933,2e-05,1.0,,\\n934,0.0,1.0,,\\n935,0.00653,1.0,,\\n936,1e-05,1.0,,\\n937,0.0,1.0,,\\n938,0.0,1.0,,\\n939,0.0,1.0,,\\n940,0.0,1.0,,\\n941,1.38798,0.9,,\\n942,0.0,1.0,,\\n943,0.0,1.0,,\\n944,1.22111,0.875,,\\n945,0.0,1.0,,\\n946,0.0,1.0,,\\n947,0.66397,0.88889,,\\n948,0.87681,0.875,,\\n949,2.55659,0.8,,\\n950,1e-05,1.0,,\\n951,0.0,1.0,,\\n952,0.0,1.0,,\\n953,2e-05,1.0,,\\n954,1.22743,0.88889,,\\n955,0.0,1.0,,\\n956,2.17668,0.875,,\\n957,0.0,1.0,,\\n958,0.0,1.0,,\\n959,0.0,1.0,,\\n960,2.9219,0.77778,,\\n961,0.0,1.0,,\\n962,1.48753,0.88889,,\\n963,0.0,1.0,,\\n964,0.0,1.0,,\\n965,0.0,1.0,,\\n966,0.0,1.0,,\\n967,2.48379,0.8,,\\n968,0.0,1.0,,\\n969,0.0,1.0,,\\n970,0.0,1.0,,\\n971,0.39014,0.88889,,\\n972,1.19804,0.88889,,\\n973,0.0,1.0,,\\n974,1.23711,0.88889,,\\n975,0.0,1.0,,\\n976,0.0,1.0,,\\n977,0.0,1.0,,\\n978,0.0,1.0,,\\n979,1.56698,0.88889,,\\n980,0.0,1.0,,\\n981,0.0,1.0,,\\n982,3.61195,0.75,,\\n983,0.0,1.0,,\\n984,0.0,1.0,,\\n985,4e-05,1.0,,\\n986,0.0,1.0,,\\n987,0.0,1.0,,\\n988,0.0,1.0,,\\n989,0.0,1.0,,\\n990,0.0,1.0,,\\n991,0.0,1.0,,\\n992,0.0,1.0,,\\n993,0.0,1.0,,\\n994,1.65793,0.88889,,\\n995,0.00733,1.0,,\\n996,0.0,1.0,,\\n997,0.0,1.0,,\\n998,0.0,1.0,,\\n999,0.0,1.0,,\\n1000,0.0,1.0,,\\n1001,0.18552,0.88889,0.0,0.0\\n1002,0.0,1.0,,\\n1003,0.0,1.0,,\\n1004,0.64952,0.88889,,\\n1005,0.16619,0.88889,,\\n1006,0.0,1.0,,\\n1007,0.0,1.0,,\\n1008,0.9342,0.875,,\\n1009,0.438,0.88889,,\\n1010,0.0,1.0,,\\n1011,2.28661,0.875,,\\n1012,4.03981,0.77778,,\\n1013,0.0,1.0,,\\n1014,1.17608,0.875,,\\n1015,1.17954,0.875,,\\n1016,0.0,1.0,,\\n1017,0.84301,0.88889,,\\n1018,0.0,1.0,,\\n1019,0.0,1.0,,\\n1020,0.0,1.0,,\\n1021,0.0,1.0,,\\n1022,0.0,1.0,,\\n1023,0.0,1.0,,\\n1024,0.0,1.0,,\\n1025,0.30115,0.88889,,\\n1026,0.0,1.0,,\\n1027,0.0,1.0,,\\n1028,0.0,1.0,,\\n1029,0.0,1.0,,\\n1030,0.08029,0.9,,\\n1031,2.02978,0.88889,,\\n1032,0.0,1.0,,\\n1033,1.72939,0.88889,,\\n1034,0.0,1.0,,\\n1035,1.85676,0.875,,\\n1036,0.0,1.0,,\\n1037,0.0,1.0,,\\n1038,1.53093,0.88889,,\\n1039,1.66594,0.88889,,\\n1040,0.0,1.0,,\\n1041,0.0,1.0,,\\n1042,0.0,1.0,,\\n1043,0.0,1.0,,\\n1044,0.0,1.0,,\\n1045,0.0,1.0,,\\n1046,0.0,1.0,,\\n1047,1.46394,0.88889,,\\n1048,1.91389,0.875,,\\n1049,1.26706,0.875,,\\n1050,1.63234,0.88889,,\\n1051,0.0,1.0,,\\n1052,0.0009,1.0,,\\n1053,1.52839,0.875,,\\n1054,0.0,1.0,,\\n1055,1.1388,0.88889,,\\n1056,0.41697,0.88889,,\\n1057,0.0,1.0,,\\n1058,0.01323,1.0,,\\n1059,0.00911,1.0,,\\n1060,0.0,1.0,,\\n1061,0.0,1.0,,\\n1062,0.86775,0.88889,,\\n1063,0.0,1.0,,\\n1064,0.0,1.0,,\\n1065,0.0,1.0,,\\n1066,0.0,1.0,,\\n1067,0.0,1.0,,\\n1068,1.61859,0.88889,,\\n1069,0.0,1.0,,\\n1070,2.04709,0.875,,\\n1071,0.0,1.0,,\\n1072,0.0004,1.0,,\\n1073,0.0,1.0,,\\n1074,0.01583,1.0,,\\n1075,0.0,1.0,,\\n1076,0.0,1.0,,\\n1077,0.0,1.0,,\\n1078,0.0,1.0,,\\n1079,0.0,1.0,,\\n1080,0.0,1.0,,\\n1081,1.80798,0.88889,,\\n1082,1.74738,0.9,,\\n1083,0.0,1.0,,\\n1084,0.0,1.0,,\\n1085,1e-05,1.0,,\\n1086,0.33937,0.88889,,\\n1087,2.12252,0.88889,,\\n1088,0.0,1.0,,\\n1089,2e-05,1.0,,\\n1090,0.0,1.0,,\\n1091,0.0,1.0,,\\n1092,0.0,1.0,,\\n1093,0.0,1.0,,\\n1094,0.0,1.0,,\\n1095,0.0,1.0,,\\n1096,0.0,1.0,,\\n1097,0.0,1.0,,\\n1098,2.17207,0.875,,\\n1099,0.0,1.0,,\\n1100,0.0,1.0,,\\n1101,0.0,1.0,0.0,0.22222\\n1102,0.0,1.0,,\\n1103,0.0,1.0,,\\n1104,0.0,1.0,,\\n1105,0.0,1.0,,\\n1106,0.0,1.0,,\\n1107,0.0,1.0,,\\n1108,0.0,1.0,,\\n1109,0.0,1.0,,\\n1110,1.55507,0.88889,,\\n1111,0.0,1.0,,\\n1112,0.0,1.0,,\\n1113,1.34035,0.88889,,\\n1114,0.42673,0.875,,\\n1115,0.0,1.0,,\\n1116,0.1894,0.9,,\\n1117,0.0,1.0,,\\n1118,0.0,1.0,,\\n1119,0.0,1.0,,\\n1120,0.0,1.0,,\\n1121,0.15398,0.88889,,\\n1122,1.90207,0.875,,\\n1123,1.54152,0.88889,,\\n1124,0.0,1.0,,\\n1125,0.94344,0.88889,,\\n1126,0.0,1.0,,\\n1127,0.0,1.0,,\\n1128,0.0,1.0,,\\n1129,0.0,1.0,,\\n1130,3e-05,1.0,,\\n1131,0.0,1.0,,\\n1132,0.0,1.0,,\\n1133,0.0,1.0,,\\n1134,0.29758,0.88889,,\\n1135,0.7764,0.88889,,\\n1136,2.20009,0.875,,\\n1137,0.0,1.0,,\\n1138,0.0,1.0,,\\n1139,0.0,1.0,,\\n1140,1.35382,0.88889,,\\n1141,0.0,1.0,,\\n1142,3e-05,1.0,,\\n1143,0.0,1.0,,\\n1144,0.0,1.0,,\\n1145,0.0,1.0,,\\n1146,0.0,1.0,,\\n1147,0.0,1.0,,\\n1148,0.00905,1.0,,\\n1149,0.0,1.0,,\\n1150,0.0,1.0,,\\n1151,0.2543,0.9,,\\n1152,0.01735,1.0,,\\n1153,0.0,1.0,,\\n1154,0.0,1.0,,\\n1155,0.0,1.0,,\\n1156,1.56273,0.9,,\\n1157,0.0,1.0,,\\n1158,1.31079,0.875,,\\n1159,0.0,1.0,,\\n1160,0.0,1.0,,\\n1161,0.0,1.0,,\\n1162,1.73276,0.88889,,\\n1163,0.0,1.0,,\\n1164,2.49565,0.75,,\\n1165,0.0,1.0,,\\n1166,0.0,1.0,,\\n1167,0.0,1.0,,\\n1168,0.0,1.0,,\\n1169,1.91217,0.875,,\\n1170,1e-05,1.0,,\\n1171,0.0,1.0,,\\n1172,0.0,1.0,,\\n1173,0.0,1.0,,\\n1174,0.0,1.0,,\\n1175,0.0,1.0,,\\n1176,0.0,1.0,,\\n1177,1.77878,0.9,,\\n1178,0.0,1.0,,\\n1179,0.0,1.0,,\\n1180,0.0,1.0,,\\n1181,0.60944,0.88889,,\\n1182,0.0,1.0,,\\n1183,0.0,1.0,,\\n1184,0.0,1.0,,\\n1185,0.0,1.0,,\\n1186,0.0,1.0,,\\n1187,0.0,1.0,,\\n1188,0.0,1.0,,\\n1189,1.98506,0.875,,\\n1190,0.66361,0.75,,\\n1191,0.0164,1.0,,\\n1192,0.00011,1.0,,\\n1193,0.0,1.0,,\\n1194,0.0,1.0,,\\n1195,0.72911,0.88889,,\\n1196,0.0,1.0,,\\n1197,0.0,1.0,,\\n1198,0.72957,0.88889,,\\n1199,0.0,1.0,,\\n1200,0.0,1.0,,\\n1201,0.0,1.0,0.0,0.22222\\n1202,0.0,1.0,,\\n1203,0.0,1.0,,\\n1204,0.0,1.0,,\\n1205,0.23031,0.875,,\\n1206,0.00647,1.0,,\\n1207,1e-05,1.0,,\\n1208,0.0,1.0,,\\n1209,0.0,1.0,,\\n1210,2.17169,0.77778,,\\n1211,0.0,1.0,,\\n1212,1.89438,0.88889,,\\n1213,0.0,1.0,,\\n1214,0.0,1.0,,\\n1215,3.65547,0.8,,\\n1216,0.0,1.0,,\\n1217,0.0,1.0,,\\n1218,0.0,1.0,,\\n1219,0.01641,1.0,,\\n1220,0.0,1.0,,\\n1221,1.4332,0.88889,,\\n1222,1.83326,0.88889,,\\n1223,0.0,1.0,,\\n1224,0.0,1.0,,\\n1225,0.0,1.0,,\\n1226,0.0,1.0,,\\n1227,0.0,1.0,,\\n1228,0.0,1.0,,\\n1229,0.0,1.0,,\\n1230,0.0,1.0,,\\n1231,1.2307,0.88889,,\\n1232,0.0,1.0,,\\n1233,0.0,1.0,,\\n1234,0.0,1.0,,\\n1235,0.0,1.0,,\\n1236,2.92246,0.77778,,\\n1237,0.0,1.0,,\\n1238,0.0,1.0,,\\n1239,0.0,1.0,,\\n1240,0.0,1.0,,\\n1241,0.0,1.0,,\\n1242,0.01989,1.0,,\\n1243,0.0,1.0,,\\n1244,0.0,1.0,,\\n1245,0.0,1.0,,\\n1246,0.0,1.0,,\\n1247,0.0,1.0,,\\n1248,0.0,1.0,,\\n1249,1.46876,0.88889,,\\n1250,0.0,1.0,,\\n1251,0.0,1.0,,\\n1252,0.0,1.0,,\\n1253,1.82702,0.88889,,\\n1254,0.0,1.0,,\\n1255,1.81703,0.9,,\\n1256,0.0,1.0,,\\n1257,0.0,1.0,,\\n1258,0.64892,0.88889,,\\n1259,0.0,1.0,,\\n1260,1.85708,0.88889,,\\n1261,0.0,1.0,,\\n1262,0.0,1.0,,\\n1263,0.0,1.0,,\\n1264,0.0,1.0,,\\n1265,0.0,1.0,,\\n1266,0.0,1.0,,\\n1267,0.0,1.0,,\\n1268,0.0,1.0,,\\n1269,0.0,1.0,,\\n1270,0.0,1.0,,\\n1271,0.0,1.0,,\\n1272,0.0,1.0,,\\n1273,0.0,1.0,,\\n1274,0.0,1.0,,\\n1275,0.0,1.0,,\\n1276,0.0,1.0,,\\n1277,0.0,1.0,,\\n1278,1.77154,0.88889,,\\n1279,0.0001,1.0,,\\n1280,0.0,1.0,,\\n1281,0.0,1.0,,\\n1282,1.59582,0.88889,,\\n1283,0.0,1.0,,\\n1284,1.03203,0.9,,\\n1285,0.0,1.0,,\\n1286,0.0,1.0,,\\n1287,0.0,1.0,,\\n1288,0.0,1.0,,\\n1289,0.0,1.0,,\\n1290,0.0,1.0,,\\n1291,0.0,1.0,,\\n1292,0.0,1.0,,\\n1293,0.0,1.0,,\\n1294,0.0,1.0,,\\n1295,0.0,1.0,,\\n1296,1.79554,0.88889,,\\n1297,0.0,1.0,,\\n1298,0.0,1.0,,\\n1299,1.13794,0.9,,\\n1300,2.03829,0.88889,,\\n1301,0.0,1.0,1.78242,0.22222\\n1302,0.0,1.0,,\\n1303,0.0,1.0,,\\n1304,0.0,1.0,,\\n1305,0.0,1.0,,\\n1306,0.0,1.0,,\\n1307,1.54622,0.88889,,\\n1308,0.0,1.0,,\\n1309,0.0,1.0,,\\n1310,0.0,1.0,,\\n1311,0.73199,0.88889,,\\n1312,0.0,1.0,,\\n1313,0.0,1.0,,\\n1314,0.0,1.0,,\\n1315,0.0,1.0,,\\n1316,0.0,1.0,,\\n1317,0.0,1.0,,\\n1318,1.48989,0.9,,\\n1319,0.0,1.0,,\\n1320,0.0,1.0,,\\n1321,0.0,1.0,,\\n1322,0.0,1.0,,\\n1323,0.0,1.0,,\\n1324,0.0,1.0,,\\n1325,0.0,1.0,,\\n1326,3.03988,0.77778,,\\n1327,0.0,1.0,,\\n1328,1.57956,0.9,,\\n1329,0.0,1.0,,\\n1330,0.0,1.0,,\\n1331,2e-05,1.0,,\\n1332,0.0,1.0,,\\n1333,0.0,1.0,,\\n1334,0.0,1.0,,\\n1335,0.76894,0.9,,\\n1336,0.0,1.0,,\\n1337,0.0,1.0,,\\n1338,0.0,1.0,,\\n1339,0.0,1.0,,\\n1340,0.0,1.0,,\\n1341,0.0,1.0,,\\n1342,0.0,1.0,,\\n1343,1.46857,0.9,,\\n1344,0.0,1.0,,\\n1345,0.0,1.0,,\\n1346,0.0,1.0,,\\n1347,0.0,1.0,,\\n1348,0.0,1.0,,\\n1349,0.0,1.0,,\\n1350,2.3409,0.88889,,\\n1351,0.0,1.0,,\\n1352,0.0,1.0,,\\n1353,0.0,1.0,,\\n1354,0.0,1.0,,\\n1355,1.31331,0.88889,,\\n1356,0.0,1.0,,\\n1357,0.0,1.0,,\\n1358,0.0,1.0,,\\n1359,0.0,1.0,,\\n1360,1.81484,0.88889,,\\n1361,3.36452,0.77778,,\\n1362,1.29281,0.88889,,\\n1363,0.0,1.0,,\\n1364,0.0,1.0,,\\n1365,0.0,1.0,,\\n1366,1.98847,0.875,,\\n1367,0.0,1.0,,\\n1368,0.0,1.0,,\\n1369,0.0,1.0,,\\n1370,0.0,1.0,,\\n1371,0.00446,1.0,,\\n1372,0.0,1.0,,\\n1373,1.60592,0.875,,\\n1374,0.0,1.0,,\\n1375,1.51878,0.9,,\\n1376,0.0,1.0,,\\n1377,0.0,1.0,,\\n1378,0.0,1.0,,\\n1379,0.0,1.0,,\\n1380,0.0,1.0,,\\n1381,0.0,1.0,,\\n1382,0.0,1.0,,\\n1383,0.0,1.0,,\\n1384,0.0,1.0,,\\n1385,0.0,1.0,,\\n1386,1e-05,1.0,,\\n1387,0.0,1.0,,\\n1388,1.81521,0.88889,,\\n1389,1.62926,0.88889,,\\n1390,0.0,1.0,,\\n1391,1.57008,0.9,,\\n1392,0.0,1.0,,\\n1393,0.0,1.0,,\\n1394,0.0,1.0,,\\n1395,0.0,1.0,,\\n1396,0.0,1.0,,\\n1397,0.0,1.0,,\\n1398,0.0,1.0,,\\n1399,0.0,1.0,,\\n1400,0.0,1.0,,\\n1401,0.0,1.0,0.0,0.0\\n1402,0.0,1.0,,\\n1403,0.0,1.0,,\\n1404,0.0,1.0,,\\n1405,0.0,1.0,,\\n1406,0.0,1.0,,\\n1407,0.0,1.0,,\\n1408,1.22998,0.9,,\\n1409,0.0,1.0,,\\n1410,1.94246,0.88889,,\\n1411,0.0,1.0,,\\n1412,0.0,1.0,,\\n1413,0.0,1.0,,\\n1414,0.0,1.0,,\\n1415,0.0,1.0,,\\n1416,1.13913,0.9,,\\n1417,1.71809,0.88889,,\\n1418,0.00093,1.0,,\\n1419,0.0,1.0,,\\n1420,0.0,1.0,,\\n1421,1.79672,0.875,,\\n1422,0.0,1.0,,\\n1423,0.0,1.0,,\\n1424,0.0,1.0,,\\n1425,5e-05,1.0,,\\n1426,0.0,1.0,,\\n1427,0.0,1.0,,\\n1428,0.00363,1.0,,\\n1429,1.8484,0.88889,,\\n1430,0.0,1.0,,\\n1431,1.41518,0.88889,,\\n1432,0.0,1.0,,\\n1433,0.0,1.0,,\\n1434,0.0,1.0,,\\n1435,1.57693,0.88889,,\\n1436,0.0,1.0,,\\n1437,0.0,1.0,,\\n1438,0.27329,0.88889,,\\n1439,0.0,1.0,,\\n1440,0.0,1.0,,\\n1441,0.0,1.0,,\\n1442,0.0,1.0,,\\n1443,0.0,1.0,,\\n1444,0.0,1.0,,\\n1445,0.0,1.0,,\\n1446,0.00026,1.0,,\\n1447,0.0,1.0,,\\n1448,0.0,1.0,,\\n1449,0.0,1.0,,\\n1450,0.0,1.0,,\\n1451,0.0,1.0,,\\n1452,0.0,1.0,,\\n1453,0.0,1.0,,\\n1454,0.0,1.0,,\\n1455,0.85504,0.875,,\\n1456,0.0,1.0,,\\n1457,0.0,1.0,,\\n1458,1.53689,0.9,,\\n1459,0.0,1.0,,\\n1460,0.0,1.0,,\\n1461,1.28069,0.9,,\\n1462,0.0,1.0,,\\n1463,2.2181,0.875,,\\n1464,0.0,1.0,,\\n1465,0.0,1.0,,\\n1466,0.0,1.0,,\\n1467,0.0,1.0,,\\n1468,0.0,1.0,,\\n1469,0.0,1.0,,\\n1470,0.76029,0.88889,,\\n1471,0.0,1.0,,\\n1472,0.0,1.0,,\\n1473,0.0,1.0,,\\n1474,5e-05,1.0,,\\n1475,1.68333,0.88889,,\\n1476,1e-05,1.0,,\\n1477,0.30693,0.88889,,\\n1478,0.0,1.0,,\\n1479,0.0,1.0,,\\n1480,0.0,1.0,,\\n1481,3e-05,1.0,,\\n1482,1.48134,0.9,,\\n1483,0.0,1.0,,\\n1484,0.0,1.0,,\\n1485,0.0,1.0,,\\n1486,0.0,1.0,,\\n1487,1.44165,0.875,,\\n1488,0.59697,0.9,,\\n1489,0.00751,1.0,,\\n1490,0.0,1.0,,\\n1491,0.0,1.0,,\\n1492,1.45589,0.88889,,\\n1493,0.80099,0.88889,,\\n1494,0.0,1.0,,\\n1495,1.77436,0.88889,,\\n1496,0.0,1.0,,\\n1497,1.16614,0.88889,,\\n1498,0.0,1.0,,\\n1499,0.0,1.0,,\\n1500,0.0,1.0,,\\n1501,0.0,1.0,0.0,0.0\\n1502,0.0,1.0,,\\n1503,0.0,1.0,,\\n1504,0.0,1.0,,\\n1505,1.56363,0.9,,\\n1506,0.0,1.0,,\\n1507,0.0,1.0,,\\n1508,0.0,1.0,,\\n1509,0.96527,0.88889,,\\n1510,0.0,1.0,,\\n1511,0.0,1.0,,\\n1512,0.0,1.0,,\\n1513,0.0,1.0,,\\n1514,0.0,1.0,,\\n1515,0.0,1.0,,\\n1516,0.0,1.0,,\\n1517,0.0,1.0,,\\n1518,0.0,1.0,,\\n1519,1.4835,0.9,,\\n1520,0.56318,0.875,,\\n1521,0.0,1.0,,\\n1522,0.0,1.0,,\\n1523,0.0,1.0,,\\n1524,0.0,1.0,,\\n1525,0.0,1.0,,\\n1526,0.0,1.0,,\\n1527,0.0,1.0,,\\n1528,0.0,1.0,,\\n1529,1.7458,0.88889,,\\n1530,0.0,1.0,,\\n1531,0.0,1.0,,\\n1532,0.0,1.0,,\\n1533,0.0,1.0,,\\n1534,0.0,1.0,,\\n1535,0.0,1.0,,\\n'\n"
     ]
    }
   ],
   "source": [
    " # Get Metric Results File\n",
    "finetune_metrics = openai.File.download(ft_file_results_id[0])\n",
    "\n",
    "# Show Finetune Metrics\n",
    "print(finetune_metrics)"
   ]
  }
 ],
 "metadata": {
  "kernelspec": {
   "display_name": "Python 3",
   "language": "python",
   "name": "python3"
  },
  "language_info": {
   "codemirror_mode": {
    "name": "ipython",
    "version": 3
   },
   "file_extension": ".py",
   "mimetype": "text/x-python",
   "name": "python",
   "nbconvert_exporter": "python",
   "pygments_lexer": "ipython3",
   "version": "3.9.13"
  },
  "orig_nbformat": 4
 },
 "nbformat": 4,
 "nbformat_minor": 2
}
